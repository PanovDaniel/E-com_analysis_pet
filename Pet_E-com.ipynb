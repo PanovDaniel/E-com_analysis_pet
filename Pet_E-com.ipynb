{
 "cells": [
  {
   "cell_type": "code",
   "execution_count": 94,
   "id": "c1c616c7",
   "metadata": {},
   "outputs": [],
   "source": [
    "import pandas as pd\n",
    "import numpy as np\n",
    "import seaborn as sns\n",
    "import matplotlib.pyplot as plt\n",
    "from datetime import date, timedelta"
   ]
  },
  {
   "cell_type": "code",
   "execution_count": 95,
   "id": "0779c123",
   "metadata": {},
   "outputs": [],
   "source": [
    "users = pd.read_csv(r'C:\\Users\\panov\\Desktop\\users.csv')"
   ]
  },
  {
   "cell_type": "code",
   "execution_count": 96,
   "id": "c4729640",
   "metadata": {},
   "outputs": [],
   "source": [
    "transactions = pd.read_csv(r'C:\\Users\\panov\\Desktop\\transactions.csv')"
   ]
  },
  {
   "cell_type": "code",
   "execution_count": 97,
   "id": "4c6cde15",
   "metadata": {},
   "outputs": [],
   "source": [
    "marketing = pd.read_csv(r'C:\\Users\\panov\\Desktop\\marketing.csv')"
   ]
  },
  {
   "cell_type": "markdown",
   "id": "a0516d94",
   "metadata": {},
   "source": [
    "# Проверка данных на ошибки"
   ]
  },
  {
   "cell_type": "code",
   "execution_count": 98,
   "id": "bbf55ab7",
   "metadata": {},
   "outputs": [
    {
     "data": {
      "text/html": [
       "<div>\n",
       "<style scoped>\n",
       "    .dataframe tbody tr th:only-of-type {\n",
       "        vertical-align: middle;\n",
       "    }\n",
       "\n",
       "    .dataframe tbody tr th {\n",
       "        vertical-align: top;\n",
       "    }\n",
       "\n",
       "    .dataframe thead th {\n",
       "        text-align: right;\n",
       "    }\n",
       "</style>\n",
       "<table border=\"1\" class=\"dataframe\">\n",
       "  <thead>\n",
       "    <tr style=\"text-align: right;\">\n",
       "      <th></th>\n",
       "      <th>Unnamed: 0</th>\n",
       "      <th>user_id</th>\n",
       "      <th>created_at</th>\n",
       "      <th>birth_date</th>\n",
       "      <th>gender</th>\n",
       "    </tr>\n",
       "  </thead>\n",
       "  <tbody>\n",
       "    <tr>\n",
       "      <th>0</th>\n",
       "      <td>1</td>\n",
       "      <td>f931ccace226da1c</td>\n",
       "      <td>2021-02-02 13:21:15</td>\n",
       "      <td>1956-08-05</td>\n",
       "      <td>male</td>\n",
       "    </tr>\n",
       "    <tr>\n",
       "      <th>1</th>\n",
       "      <td>2</td>\n",
       "      <td>65aab0ca32b7e096</td>\n",
       "      <td>2021-03-09 05:19:25</td>\n",
       "      <td>1985-01-31</td>\n",
       "      <td>female</td>\n",
       "    </tr>\n",
       "    <tr>\n",
       "      <th>2</th>\n",
       "      <td>3</td>\n",
       "      <td>2d944cc5996ba4e1</td>\n",
       "      <td>2021-06-06 21:55:39</td>\n",
       "      <td>1995-03-05</td>\n",
       "      <td>male</td>\n",
       "    </tr>\n",
       "    <tr>\n",
       "      <th>3</th>\n",
       "      <td>4</td>\n",
       "      <td>935d7cac3351d579</td>\n",
       "      <td>2021-09-27 22:49:08</td>\n",
       "      <td>1994-06-05</td>\n",
       "      <td>male</td>\n",
       "    </tr>\n",
       "    <tr>\n",
       "      <th>4</th>\n",
       "      <td>5</td>\n",
       "      <td>c4a9ab70542f61cb</td>\n",
       "      <td>2021-12-07 03:12:43</td>\n",
       "      <td>1979-08-01</td>\n",
       "      <td>female</td>\n",
       "    </tr>\n",
       "  </tbody>\n",
       "</table>\n",
       "</div>"
      ],
      "text/plain": [
       "   Unnamed: 0           user_id           created_at  birth_date  gender\n",
       "0           1  f931ccace226da1c  2021-02-02 13:21:15  1956-08-05    male\n",
       "1           2  65aab0ca32b7e096  2021-03-09 05:19:25  1985-01-31  female\n",
       "2           3  2d944cc5996ba4e1  2021-06-06 21:55:39  1995-03-05    male\n",
       "3           4  935d7cac3351d579  2021-09-27 22:49:08  1994-06-05    male\n",
       "4           5  c4a9ab70542f61cb  2021-12-07 03:12:43  1979-08-01  female"
      ]
     },
     "execution_count": 98,
     "metadata": {},
     "output_type": "execute_result"
    }
   ],
   "source": [
    "users.head(5)"
   ]
  },
  {
   "cell_type": "code",
   "execution_count": 99,
   "id": "6e8adf60",
   "metadata": {
    "scrolled": true
   },
   "outputs": [
    {
     "data": {
      "text/html": [
       "<div>\n",
       "<style scoped>\n",
       "    .dataframe tbody tr th:only-of-type {\n",
       "        vertical-align: middle;\n",
       "    }\n",
       "\n",
       "    .dataframe tbody tr th {\n",
       "        vertical-align: top;\n",
       "    }\n",
       "\n",
       "    .dataframe thead th {\n",
       "        text-align: right;\n",
       "    }\n",
       "</style>\n",
       "<table border=\"1\" class=\"dataframe\">\n",
       "  <thead>\n",
       "    <tr style=\"text-align: right;\">\n",
       "      <th></th>\n",
       "      <th>Unnamed: 0</th>\n",
       "      <th>user_id</th>\n",
       "      <th>created_at</th>\n",
       "      <th>birth_date</th>\n",
       "      <th>gender</th>\n",
       "    </tr>\n",
       "  </thead>\n",
       "  <tbody>\n",
       "    <tr>\n",
       "      <th>9995</th>\n",
       "      <td>9996</td>\n",
       "      <td>f1549af2b3afa6e2</td>\n",
       "      <td>2021-01-14 08:21:03</td>\n",
       "      <td>1971-12-10</td>\n",
       "      <td>male</td>\n",
       "    </tr>\n",
       "    <tr>\n",
       "      <th>9996</th>\n",
       "      <td>9997</td>\n",
       "      <td>4ab38083a326e23d</td>\n",
       "      <td>2021-09-28 15:35:54</td>\n",
       "      <td>2001-11-08</td>\n",
       "      <td>male</td>\n",
       "    </tr>\n",
       "    <tr>\n",
       "      <th>9997</th>\n",
       "      <td>9998</td>\n",
       "      <td>0d02528b546b9cb6</td>\n",
       "      <td>2021-08-09 23:52:18</td>\n",
       "      <td>1989-12-13</td>\n",
       "      <td>female</td>\n",
       "    </tr>\n",
       "    <tr>\n",
       "      <th>9998</th>\n",
       "      <td>9999</td>\n",
       "      <td>8790d57345a276fe</td>\n",
       "      <td>2021-07-24 04:05:39</td>\n",
       "      <td>1997-05-02</td>\n",
       "      <td>female</td>\n",
       "    </tr>\n",
       "    <tr>\n",
       "      <th>9999</th>\n",
       "      <td>10000</td>\n",
       "      <td>302eae5ccad4c474</td>\n",
       "      <td>2021-07-15 09:22:25</td>\n",
       "      <td>2001-12-16</td>\n",
       "      <td>female</td>\n",
       "    </tr>\n",
       "  </tbody>\n",
       "</table>\n",
       "</div>"
      ],
      "text/plain": [
       "      Unnamed: 0           user_id           created_at  birth_date  gender\n",
       "9995        9996  f1549af2b3afa6e2  2021-01-14 08:21:03  1971-12-10    male\n",
       "9996        9997  4ab38083a326e23d  2021-09-28 15:35:54  2001-11-08    male\n",
       "9997        9998  0d02528b546b9cb6  2021-08-09 23:52:18  1989-12-13  female\n",
       "9998        9999  8790d57345a276fe  2021-07-24 04:05:39  1997-05-02  female\n",
       "9999       10000  302eae5ccad4c474  2021-07-15 09:22:25  2001-12-16  female"
      ]
     },
     "execution_count": 99,
     "metadata": {},
     "output_type": "execute_result"
    }
   ],
   "source": [
    "users.tail(5)"
   ]
  },
  {
   "cell_type": "code",
   "execution_count": 100,
   "id": "55a1d7aa",
   "metadata": {},
   "outputs": [],
   "source": [
    "users = users.drop('Unnamed: 0', axis=1)"
   ]
  },
  {
   "cell_type": "code",
   "execution_count": 101,
   "id": "592d44db",
   "metadata": {},
   "outputs": [
    {
     "data": {
      "text/html": [
       "<div>\n",
       "<style scoped>\n",
       "    .dataframe tbody tr th:only-of-type {\n",
       "        vertical-align: middle;\n",
       "    }\n",
       "\n",
       "    .dataframe tbody tr th {\n",
       "        vertical-align: top;\n",
       "    }\n",
       "\n",
       "    .dataframe thead th {\n",
       "        text-align: right;\n",
       "    }\n",
       "</style>\n",
       "<table border=\"1\" class=\"dataframe\">\n",
       "  <thead>\n",
       "    <tr style=\"text-align: right;\">\n",
       "      <th></th>\n",
       "      <th>user_id</th>\n",
       "      <th>created_at</th>\n",
       "      <th>birth_date</th>\n",
       "      <th>gender</th>\n",
       "    </tr>\n",
       "  </thead>\n",
       "  <tbody>\n",
       "    <tr>\n",
       "      <th>0</th>\n",
       "      <td>f931ccace226da1c</td>\n",
       "      <td>2021-02-02 13:21:15</td>\n",
       "      <td>1956-08-05</td>\n",
       "      <td>male</td>\n",
       "    </tr>\n",
       "    <tr>\n",
       "      <th>1</th>\n",
       "      <td>65aab0ca32b7e096</td>\n",
       "      <td>2021-03-09 05:19:25</td>\n",
       "      <td>1985-01-31</td>\n",
       "      <td>female</td>\n",
       "    </tr>\n",
       "    <tr>\n",
       "      <th>2</th>\n",
       "      <td>2d944cc5996ba4e1</td>\n",
       "      <td>2021-06-06 21:55:39</td>\n",
       "      <td>1995-03-05</td>\n",
       "      <td>male</td>\n",
       "    </tr>\n",
       "    <tr>\n",
       "      <th>3</th>\n",
       "      <td>935d7cac3351d579</td>\n",
       "      <td>2021-09-27 22:49:08</td>\n",
       "      <td>1994-06-05</td>\n",
       "      <td>male</td>\n",
       "    </tr>\n",
       "    <tr>\n",
       "      <th>4</th>\n",
       "      <td>c4a9ab70542f61cb</td>\n",
       "      <td>2021-12-07 03:12:43</td>\n",
       "      <td>1979-08-01</td>\n",
       "      <td>female</td>\n",
       "    </tr>\n",
       "  </tbody>\n",
       "</table>\n",
       "</div>"
      ],
      "text/plain": [
       "            user_id           created_at  birth_date  gender\n",
       "0  f931ccace226da1c  2021-02-02 13:21:15  1956-08-05    male\n",
       "1  65aab0ca32b7e096  2021-03-09 05:19:25  1985-01-31  female\n",
       "2  2d944cc5996ba4e1  2021-06-06 21:55:39  1995-03-05    male\n",
       "3  935d7cac3351d579  2021-09-27 22:49:08  1994-06-05    male\n",
       "4  c4a9ab70542f61cb  2021-12-07 03:12:43  1979-08-01  female"
      ]
     },
     "execution_count": 101,
     "metadata": {},
     "output_type": "execute_result"
    }
   ],
   "source": [
    "users.head(5)"
   ]
  },
  {
   "cell_type": "code",
   "execution_count": 102,
   "id": "54603b81",
   "metadata": {},
   "outputs": [
    {
     "name": "stdout",
     "output_type": "stream",
     "text": [
      "<class 'pandas.core.frame.DataFrame'>\n",
      "RangeIndex: 10000 entries, 0 to 9999\n",
      "Data columns (total 4 columns):\n",
      " #   Column      Non-Null Count  Dtype \n",
      "---  ------      --------------  ----- \n",
      " 0   user_id     10000 non-null  object\n",
      " 1   created_at  10000 non-null  object\n",
      " 2   birth_date  10000 non-null  object\n",
      " 3   gender      10000 non-null  object\n",
      "dtypes: object(4)\n",
      "memory usage: 312.6+ KB\n"
     ]
    }
   ],
   "source": [
    "users.info()"
   ]
  },
  {
   "cell_type": "code",
   "execution_count": 103,
   "id": "97068334",
   "metadata": {},
   "outputs": [
    {
     "data": {
      "text/plain": [
       "array(['male', 'female'], dtype=object)"
      ]
     },
     "execution_count": 103,
     "metadata": {},
     "output_type": "execute_result"
    }
   ],
   "source": [
    "users['gender'].unique()"
   ]
  },
  {
   "cell_type": "code",
   "execution_count": 104,
   "id": "2a25df1e",
   "metadata": {},
   "outputs": [
    {
     "data": {
      "text/html": [
       "<div>\n",
       "<style scoped>\n",
       "    .dataframe tbody tr th:only-of-type {\n",
       "        vertical-align: middle;\n",
       "    }\n",
       "\n",
       "    .dataframe tbody tr th {\n",
       "        vertical-align: top;\n",
       "    }\n",
       "\n",
       "    .dataframe thead th {\n",
       "        text-align: right;\n",
       "    }\n",
       "</style>\n",
       "<table border=\"1\" class=\"dataframe\">\n",
       "  <thead>\n",
       "    <tr style=\"text-align: right;\">\n",
       "      <th></th>\n",
       "      <th>Unnamed: 0</th>\n",
       "      <th>transaction_id</th>\n",
       "      <th>created_at</th>\n",
       "      <th>user_id</th>\n",
       "      <th>amount</th>\n",
       "    </tr>\n",
       "  </thead>\n",
       "  <tbody>\n",
       "    <tr>\n",
       "      <th>0</th>\n",
       "      <td>1</td>\n",
       "      <td>e8152ef72822baae14866c30d5155ec8</td>\n",
       "      <td>2022-04-27 21:58:28</td>\n",
       "      <td>e1d22453e5f60161</td>\n",
       "      <td>213</td>\n",
       "    </tr>\n",
       "    <tr>\n",
       "      <th>1</th>\n",
       "      <td>2</td>\n",
       "      <td>9305700c4b7364cda47edaf6990ab7bc</td>\n",
       "      <td>2022-02-19 14:57:37</td>\n",
       "      <td>e1d22453e5f60161</td>\n",
       "      <td>128</td>\n",
       "    </tr>\n",
       "    <tr>\n",
       "      <th>2</th>\n",
       "      <td>3</td>\n",
       "      <td>3e89681d4f3d62beed4db199c719da8f</td>\n",
       "      <td>2021-12-09 20:40:10</td>\n",
       "      <td>e1d22453e5f60161</td>\n",
       "      <td>391</td>\n",
       "    </tr>\n",
       "    <tr>\n",
       "      <th>3</th>\n",
       "      <td>4</td>\n",
       "      <td>50c2d79c35513eaa1864999106f91dc3</td>\n",
       "      <td>2022-04-30 09:09:54</td>\n",
       "      <td>e08aa20152ca92c7</td>\n",
       "      <td>163</td>\n",
       "    </tr>\n",
       "    <tr>\n",
       "      <th>4</th>\n",
       "      <td>5</td>\n",
       "      <td>ce34444f31415fe2993d5b1dbe2ac846</td>\n",
       "      <td>2021-11-05 05:45:31</td>\n",
       "      <td>e08aa20152ca92c7</td>\n",
       "      <td>329</td>\n",
       "    </tr>\n",
       "  </tbody>\n",
       "</table>\n",
       "</div>"
      ],
      "text/plain": [
       "   Unnamed: 0                    transaction_id           created_at  \\\n",
       "0           1  e8152ef72822baae14866c30d5155ec8  2022-04-27 21:58:28   \n",
       "1           2  9305700c4b7364cda47edaf6990ab7bc  2022-02-19 14:57:37   \n",
       "2           3  3e89681d4f3d62beed4db199c719da8f  2021-12-09 20:40:10   \n",
       "3           4  50c2d79c35513eaa1864999106f91dc3  2022-04-30 09:09:54   \n",
       "4           5  ce34444f31415fe2993d5b1dbe2ac846  2021-11-05 05:45:31   \n",
       "\n",
       "            user_id  amount  \n",
       "0  e1d22453e5f60161     213  \n",
       "1  e1d22453e5f60161     128  \n",
       "2  e1d22453e5f60161     391  \n",
       "3  e08aa20152ca92c7     163  \n",
       "4  e08aa20152ca92c7     329  "
      ]
     },
     "execution_count": 104,
     "metadata": {},
     "output_type": "execute_result"
    }
   ],
   "source": [
    "transactions.head(5)"
   ]
  },
  {
   "cell_type": "code",
   "execution_count": 105,
   "id": "419af1a3",
   "metadata": {},
   "outputs": [
    {
     "data": {
      "text/html": [
       "<div>\n",
       "<style scoped>\n",
       "    .dataframe tbody tr th:only-of-type {\n",
       "        vertical-align: middle;\n",
       "    }\n",
       "\n",
       "    .dataframe tbody tr th {\n",
       "        vertical-align: top;\n",
       "    }\n",
       "\n",
       "    .dataframe thead th {\n",
       "        text-align: right;\n",
       "    }\n",
       "</style>\n",
       "<table border=\"1\" class=\"dataframe\">\n",
       "  <thead>\n",
       "    <tr style=\"text-align: right;\">\n",
       "      <th></th>\n",
       "      <th>Unnamed: 0</th>\n",
       "      <th>transaction_id</th>\n",
       "      <th>created_at</th>\n",
       "      <th>user_id</th>\n",
       "      <th>amount</th>\n",
       "    </tr>\n",
       "  </thead>\n",
       "  <tbody>\n",
       "    <tr>\n",
       "      <th>75054</th>\n",
       "      <td>75055</td>\n",
       "      <td>ad3db24fa47d767af987a26b85784af1</td>\n",
       "      <td>2021-10-22 17:53:00</td>\n",
       "      <td>679717fce6ce88a1</td>\n",
       "      <td>525</td>\n",
       "    </tr>\n",
       "    <tr>\n",
       "      <th>75055</th>\n",
       "      <td>75056</td>\n",
       "      <td>dcc0d7c6dcec428dd5b58bf0432b7922</td>\n",
       "      <td>2022-03-21 15:41:20</td>\n",
       "      <td>679717fce6ce88a1</td>\n",
       "      <td>897</td>\n",
       "    </tr>\n",
       "    <tr>\n",
       "      <th>75056</th>\n",
       "      <td>75057</td>\n",
       "      <td>c0244272ac376ff640866b5c3a60ed80</td>\n",
       "      <td>2021-10-14 07:16:19</td>\n",
       "      <td>679717fce6ce88a1</td>\n",
       "      <td>572</td>\n",
       "    </tr>\n",
       "    <tr>\n",
       "      <th>75057</th>\n",
       "      <td>75058</td>\n",
       "      <td>dd78af98e0f9f5a25a9976402fc1f235</td>\n",
       "      <td>2022-02-05 12:57:34</td>\n",
       "      <td>679717fce6ce88a1</td>\n",
       "      <td>936</td>\n",
       "    </tr>\n",
       "    <tr>\n",
       "      <th>75058</th>\n",
       "      <td>75059</td>\n",
       "      <td>ac284e6940b11f325c9b8e311b032bd2</td>\n",
       "      <td>2022-04-01 13:33:13</td>\n",
       "      <td>679717fce6ce88a1</td>\n",
       "      <td>406</td>\n",
       "    </tr>\n",
       "  </tbody>\n",
       "</table>\n",
       "</div>"
      ],
      "text/plain": [
       "       Unnamed: 0                    transaction_id           created_at  \\\n",
       "75054       75055  ad3db24fa47d767af987a26b85784af1  2021-10-22 17:53:00   \n",
       "75055       75056  dcc0d7c6dcec428dd5b58bf0432b7922  2022-03-21 15:41:20   \n",
       "75056       75057  c0244272ac376ff640866b5c3a60ed80  2021-10-14 07:16:19   \n",
       "75057       75058  dd78af98e0f9f5a25a9976402fc1f235  2022-02-05 12:57:34   \n",
       "75058       75059  ac284e6940b11f325c9b8e311b032bd2  2022-04-01 13:33:13   \n",
       "\n",
       "                user_id  amount  \n",
       "75054  679717fce6ce88a1     525  \n",
       "75055  679717fce6ce88a1     897  \n",
       "75056  679717fce6ce88a1     572  \n",
       "75057  679717fce6ce88a1     936  \n",
       "75058  679717fce6ce88a1     406  "
      ]
     },
     "execution_count": 105,
     "metadata": {},
     "output_type": "execute_result"
    }
   ],
   "source": [
    "transactions.tail(5)"
   ]
  },
  {
   "cell_type": "code",
   "execution_count": 106,
   "id": "ee0d49f4",
   "metadata": {},
   "outputs": [],
   "source": [
    "transactions = transactions.drop('Unnamed: 0', axis=1)"
   ]
  },
  {
   "cell_type": "code",
   "execution_count": 107,
   "id": "c5885000",
   "metadata": {},
   "outputs": [
    {
     "data": {
      "text/html": [
       "<div>\n",
       "<style scoped>\n",
       "    .dataframe tbody tr th:only-of-type {\n",
       "        vertical-align: middle;\n",
       "    }\n",
       "\n",
       "    .dataframe tbody tr th {\n",
       "        vertical-align: top;\n",
       "    }\n",
       "\n",
       "    .dataframe thead th {\n",
       "        text-align: right;\n",
       "    }\n",
       "</style>\n",
       "<table border=\"1\" class=\"dataframe\">\n",
       "  <thead>\n",
       "    <tr style=\"text-align: right;\">\n",
       "      <th></th>\n",
       "      <th>transaction_id</th>\n",
       "      <th>created_at</th>\n",
       "      <th>user_id</th>\n",
       "      <th>amount</th>\n",
       "    </tr>\n",
       "  </thead>\n",
       "  <tbody>\n",
       "    <tr>\n",
       "      <th>0</th>\n",
       "      <td>e8152ef72822baae14866c30d5155ec8</td>\n",
       "      <td>2022-04-27 21:58:28</td>\n",
       "      <td>e1d22453e5f60161</td>\n",
       "      <td>213</td>\n",
       "    </tr>\n",
       "    <tr>\n",
       "      <th>1</th>\n",
       "      <td>9305700c4b7364cda47edaf6990ab7bc</td>\n",
       "      <td>2022-02-19 14:57:37</td>\n",
       "      <td>e1d22453e5f60161</td>\n",
       "      <td>128</td>\n",
       "    </tr>\n",
       "    <tr>\n",
       "      <th>2</th>\n",
       "      <td>3e89681d4f3d62beed4db199c719da8f</td>\n",
       "      <td>2021-12-09 20:40:10</td>\n",
       "      <td>e1d22453e5f60161</td>\n",
       "      <td>391</td>\n",
       "    </tr>\n",
       "    <tr>\n",
       "      <th>3</th>\n",
       "      <td>50c2d79c35513eaa1864999106f91dc3</td>\n",
       "      <td>2022-04-30 09:09:54</td>\n",
       "      <td>e08aa20152ca92c7</td>\n",
       "      <td>163</td>\n",
       "    </tr>\n",
       "    <tr>\n",
       "      <th>4</th>\n",
       "      <td>ce34444f31415fe2993d5b1dbe2ac846</td>\n",
       "      <td>2021-11-05 05:45:31</td>\n",
       "      <td>e08aa20152ca92c7</td>\n",
       "      <td>329</td>\n",
       "    </tr>\n",
       "  </tbody>\n",
       "</table>\n",
       "</div>"
      ],
      "text/plain": [
       "                     transaction_id           created_at           user_id  \\\n",
       "0  e8152ef72822baae14866c30d5155ec8  2022-04-27 21:58:28  e1d22453e5f60161   \n",
       "1  9305700c4b7364cda47edaf6990ab7bc  2022-02-19 14:57:37  e1d22453e5f60161   \n",
       "2  3e89681d4f3d62beed4db199c719da8f  2021-12-09 20:40:10  e1d22453e5f60161   \n",
       "3  50c2d79c35513eaa1864999106f91dc3  2022-04-30 09:09:54  e08aa20152ca92c7   \n",
       "4  ce34444f31415fe2993d5b1dbe2ac846  2021-11-05 05:45:31  e08aa20152ca92c7   \n",
       "\n",
       "   amount  \n",
       "0     213  \n",
       "1     128  \n",
       "2     391  \n",
       "3     163  \n",
       "4     329  "
      ]
     },
     "execution_count": 107,
     "metadata": {},
     "output_type": "execute_result"
    }
   ],
   "source": [
    "transactions.head(5)"
   ]
  },
  {
   "cell_type": "code",
   "execution_count": 108,
   "id": "5054a7ca",
   "metadata": {},
   "outputs": [
    {
     "name": "stdout",
     "output_type": "stream",
     "text": [
      "<class 'pandas.core.frame.DataFrame'>\n",
      "RangeIndex: 75059 entries, 0 to 75058\n",
      "Data columns (total 4 columns):\n",
      " #   Column          Non-Null Count  Dtype \n",
      "---  ------          --------------  ----- \n",
      " 0   transaction_id  75059 non-null  object\n",
      " 1   created_at      75059 non-null  object\n",
      " 2   user_id         75059 non-null  object\n",
      " 3   amount          75059 non-null  int64 \n",
      "dtypes: int64(1), object(3)\n",
      "memory usage: 2.3+ MB\n"
     ]
    }
   ],
   "source": [
    "transactions.info()"
   ]
  },
  {
   "cell_type": "code",
   "execution_count": 109,
   "id": "bd1e31e6",
   "metadata": {},
   "outputs": [
    {
     "data": {
      "text/html": [
       "<div>\n",
       "<style scoped>\n",
       "    .dataframe tbody tr th:only-of-type {\n",
       "        vertical-align: middle;\n",
       "    }\n",
       "\n",
       "    .dataframe tbody tr th {\n",
       "        vertical-align: top;\n",
       "    }\n",
       "\n",
       "    .dataframe thead th {\n",
       "        text-align: right;\n",
       "    }\n",
       "</style>\n",
       "<table border=\"1\" class=\"dataframe\">\n",
       "  <thead>\n",
       "    <tr style=\"text-align: right;\">\n",
       "      <th></th>\n",
       "      <th>amount</th>\n",
       "    </tr>\n",
       "  </thead>\n",
       "  <tbody>\n",
       "    <tr>\n",
       "      <th>count</th>\n",
       "      <td>75059.000000</td>\n",
       "    </tr>\n",
       "    <tr>\n",
       "      <th>mean</th>\n",
       "      <td>1162.700076</td>\n",
       "    </tr>\n",
       "    <tr>\n",
       "      <th>std</th>\n",
       "      <td>1225.071954</td>\n",
       "    </tr>\n",
       "    <tr>\n",
       "      <th>min</th>\n",
       "      <td>100.000000</td>\n",
       "    </tr>\n",
       "    <tr>\n",
       "      <th>25%</th>\n",
       "      <td>342.000000</td>\n",
       "    </tr>\n",
       "    <tr>\n",
       "      <th>50%</th>\n",
       "      <td>737.000000</td>\n",
       "    </tr>\n",
       "    <tr>\n",
       "      <th>75%</th>\n",
       "      <td>1534.000000</td>\n",
       "    </tr>\n",
       "    <tr>\n",
       "      <th>max</th>\n",
       "      <td>16219.000000</td>\n",
       "    </tr>\n",
       "  </tbody>\n",
       "</table>\n",
       "</div>"
      ],
      "text/plain": [
       "             amount\n",
       "count  75059.000000\n",
       "mean    1162.700076\n",
       "std     1225.071954\n",
       "min      100.000000\n",
       "25%      342.000000\n",
       "50%      737.000000\n",
       "75%     1534.000000\n",
       "max    16219.000000"
      ]
     },
     "execution_count": 109,
     "metadata": {},
     "output_type": "execute_result"
    }
   ],
   "source": [
    "transactions.describe()"
   ]
  },
  {
   "cell_type": "code",
   "execution_count": 110,
   "id": "02f85216",
   "metadata": {},
   "outputs": [
    {
     "data": {
      "text/html": [
       "<div>\n",
       "<style scoped>\n",
       "    .dataframe tbody tr th:only-of-type {\n",
       "        vertical-align: middle;\n",
       "    }\n",
       "\n",
       "    .dataframe tbody tr th {\n",
       "        vertical-align: top;\n",
       "    }\n",
       "\n",
       "    .dataframe thead th {\n",
       "        text-align: right;\n",
       "    }\n",
       "</style>\n",
       "<table border=\"1\" class=\"dataframe\">\n",
       "  <thead>\n",
       "    <tr style=\"text-align: right;\">\n",
       "      <th></th>\n",
       "      <th>Название кампании</th>\n",
       "      <th>Возраст</th>\n",
       "      <th>Пол</th>\n",
       "      <th>Тип ставки</th>\n",
       "      <th>Бюджет</th>\n",
       "      <th>Показы</th>\n",
       "      <th>Клики</th>\n",
       "      <th>Первая покупка</th>\n",
       "      <th>CTR</th>\n",
       "      <th>CPM</th>\n",
       "      <th>CPC</th>\n",
       "    </tr>\n",
       "  </thead>\n",
       "  <tbody>\n",
       "    <tr>\n",
       "      <th>0</th>\n",
       "      <td>CPC_female_18-24</td>\n",
       "      <td>18-24</td>\n",
       "      <td>female</td>\n",
       "      <td>CPC</td>\n",
       "      <td>1492716</td>\n",
       "      <td>5237600</td>\n",
       "      <td>78564</td>\n",
       "      <td>271</td>\n",
       "      <td>0,015</td>\n",
       "      <td>285</td>\n",
       "      <td>19</td>\n",
       "    </tr>\n",
       "    <tr>\n",
       "      <th>1</th>\n",
       "      <td>CPC_male_18-24</td>\n",
       "      <td>18-24</td>\n",
       "      <td>male</td>\n",
       "      <td>CPC</td>\n",
       "      <td>1289193</td>\n",
       "      <td>4213049</td>\n",
       "      <td>71622</td>\n",
       "      <td>211</td>\n",
       "      <td>0,017</td>\n",
       "      <td>306</td>\n",
       "      <td>18</td>\n",
       "    </tr>\n",
       "    <tr>\n",
       "      <th>2</th>\n",
       "      <td>CPC_female_25-34</td>\n",
       "      <td>25-34</td>\n",
       "      <td>female</td>\n",
       "      <td>CPC</td>\n",
       "      <td>4338761</td>\n",
       "      <td>19283382</td>\n",
       "      <td>173550</td>\n",
       "      <td>545</td>\n",
       "      <td>0,009</td>\n",
       "      <td>225</td>\n",
       "      <td>25</td>\n",
       "    </tr>\n",
       "    <tr>\n",
       "      <th>3</th>\n",
       "      <td>CPC_male_25-34</td>\n",
       "      <td>25-34</td>\n",
       "      <td>male</td>\n",
       "      <td>CPC</td>\n",
       "      <td>4399725</td>\n",
       "      <td>16175460</td>\n",
       "      <td>137491</td>\n",
       "      <td>410</td>\n",
       "      <td>0,0085</td>\n",
       "      <td>272</td>\n",
       "      <td>32</td>\n",
       "    </tr>\n",
       "    <tr>\n",
       "      <th>4</th>\n",
       "      <td>CPC_female_35-44</td>\n",
       "      <td>35-44</td>\n",
       "      <td>female</td>\n",
       "      <td>CPC</td>\n",
       "      <td>2578613</td>\n",
       "      <td>4775209</td>\n",
       "      <td>57303</td>\n",
       "      <td>219</td>\n",
       "      <td>0,012</td>\n",
       "      <td>540</td>\n",
       "      <td>45</td>\n",
       "    </tr>\n",
       "  </tbody>\n",
       "</table>\n",
       "</div>"
      ],
      "text/plain": [
       "  Название кампании Возраст     Пол Тип ставки   Бюджет    Показы   Клики  \\\n",
       "0  CPC_female_18-24   18-24  female        CPC  1492716   5237600   78564   \n",
       "1    CPC_male_18-24   18-24    male        CPC  1289193   4213049   71622   \n",
       "2  CPC_female_25-34   25-34  female        CPC  4338761  19283382  173550   \n",
       "3    CPC_male_25-34   25-34    male        CPC  4399725  16175460  137491   \n",
       "4  CPC_female_35-44   35-44  female        CPC  2578613   4775209   57303   \n",
       "\n",
       "   Первая покупка     CTR  CPM  CPC  \n",
       "0             271   0,015  285   19  \n",
       "1             211   0,017  306   18  \n",
       "2             545   0,009  225   25  \n",
       "3             410  0,0085  272   32  \n",
       "4             219   0,012  540   45  "
      ]
     },
     "execution_count": 110,
     "metadata": {},
     "output_type": "execute_result"
    }
   ],
   "source": [
    "marketing.head(5)"
   ]
  },
  {
   "cell_type": "code",
   "execution_count": 111,
   "id": "91a5be89",
   "metadata": {},
   "outputs": [
    {
     "data": {
      "text/html": [
       "<div>\n",
       "<style scoped>\n",
       "    .dataframe tbody tr th:only-of-type {\n",
       "        vertical-align: middle;\n",
       "    }\n",
       "\n",
       "    .dataframe tbody tr th {\n",
       "        vertical-align: top;\n",
       "    }\n",
       "\n",
       "    .dataframe thead th {\n",
       "        text-align: right;\n",
       "    }\n",
       "</style>\n",
       "<table border=\"1\" class=\"dataframe\">\n",
       "  <thead>\n",
       "    <tr style=\"text-align: right;\">\n",
       "      <th></th>\n",
       "      <th>Название кампании</th>\n",
       "      <th>Возраст</th>\n",
       "      <th>Пол</th>\n",
       "      <th>Тип ставки</th>\n",
       "      <th>Бюджет</th>\n",
       "      <th>Показы</th>\n",
       "      <th>Клики</th>\n",
       "      <th>Первая покупка</th>\n",
       "      <th>CTR</th>\n",
       "      <th>CPM</th>\n",
       "      <th>CPC</th>\n",
       "    </tr>\n",
       "  </thead>\n",
       "  <tbody>\n",
       "    <tr>\n",
       "      <th>5</th>\n",
       "      <td>CPC_male_35-44</td>\n",
       "      <td>35-44</td>\n",
       "      <td>male</td>\n",
       "      <td>CPC</td>\n",
       "      <td>2348610</td>\n",
       "      <td>4414680</td>\n",
       "      <td>61806</td>\n",
       "      <td>216</td>\n",
       "      <td>0,014</td>\n",
       "      <td>532</td>\n",
       "      <td>38</td>\n",
       "    </tr>\n",
       "    <tr>\n",
       "      <th>6</th>\n",
       "      <td>CPC_female_45-54</td>\n",
       "      <td>45-54</td>\n",
       "      <td>female</td>\n",
       "      <td>CPC</td>\n",
       "      <td>908437</td>\n",
       "      <td>1740301</td>\n",
       "      <td>31325</td>\n",
       "      <td>89</td>\n",
       "      <td>0,018</td>\n",
       "      <td>522</td>\n",
       "      <td>29</td>\n",
       "    </tr>\n",
       "    <tr>\n",
       "      <th>7</th>\n",
       "      <td>CPC_male_45-54</td>\n",
       "      <td>45-54</td>\n",
       "      <td>male</td>\n",
       "      <td>CPC</td>\n",
       "      <td>782971</td>\n",
       "      <td>2151019</td>\n",
       "      <td>27963</td>\n",
       "      <td>89</td>\n",
       "      <td>0,013</td>\n",
       "      <td>364</td>\n",
       "      <td>28</td>\n",
       "    </tr>\n",
       "    <tr>\n",
       "      <th>8</th>\n",
       "      <td>CPC_female_55+</td>\n",
       "      <td>55+</td>\n",
       "      <td>female</td>\n",
       "      <td>CPC</td>\n",
       "      <td>402817</td>\n",
       "      <td>963677</td>\n",
       "      <td>10600</td>\n",
       "      <td>44</td>\n",
       "      <td>0,011</td>\n",
       "      <td>418</td>\n",
       "      <td>38</td>\n",
       "    </tr>\n",
       "    <tr>\n",
       "      <th>9</th>\n",
       "      <td>CPC_male_55+</td>\n",
       "      <td>55+</td>\n",
       "      <td>male</td>\n",
       "      <td>CPC</td>\n",
       "      <td>420199</td>\n",
       "      <td>1077433</td>\n",
       "      <td>10774</td>\n",
       "      <td>35</td>\n",
       "      <td>0,01</td>\n",
       "      <td>390</td>\n",
       "      <td>39</td>\n",
       "    </tr>\n",
       "  </tbody>\n",
       "</table>\n",
       "</div>"
      ],
      "text/plain": [
       "  Название кампании Возраст     Пол Тип ставки   Бюджет   Показы  Клики  \\\n",
       "5    CPC_male_35-44   35-44    male        CPC  2348610  4414680  61806   \n",
       "6  CPC_female_45-54   45-54  female        CPC   908437  1740301  31325   \n",
       "7    CPC_male_45-54   45-54    male        CPC   782971  2151019  27963   \n",
       "8    CPC_female_55+     55+  female        CPC   402817   963677  10600   \n",
       "9      CPC_male_55+     55+    male        CPC   420199  1077433  10774   \n",
       "\n",
       "   Первая покупка    CTR  CPM  CPC  \n",
       "5             216  0,014  532   38  \n",
       "6              89  0,018  522   29  \n",
       "7              89  0,013  364   28  \n",
       "8              44  0,011  418   38  \n",
       "9              35   0,01  390   39  "
      ]
     },
     "execution_count": 111,
     "metadata": {},
     "output_type": "execute_result"
    }
   ],
   "source": [
    "marketing.tail(5)"
   ]
  },
  {
   "cell_type": "code",
   "execution_count": 112,
   "id": "b90e9f04",
   "metadata": {},
   "outputs": [
    {
     "name": "stdout",
     "output_type": "stream",
     "text": [
      "<class 'pandas.core.frame.DataFrame'>\n",
      "RangeIndex: 10 entries, 0 to 9\n",
      "Data columns (total 11 columns):\n",
      " #   Column             Non-Null Count  Dtype \n",
      "---  ------             --------------  ----- \n",
      " 0   Название кампании  10 non-null     object\n",
      " 1   Возраст            10 non-null     object\n",
      " 2   Пол                10 non-null     object\n",
      " 3   Тип ставки         10 non-null     object\n",
      " 4   Бюджет             10 non-null     int64 \n",
      " 5   Показы             10 non-null     int64 \n",
      " 6   Клики              10 non-null     int64 \n",
      " 7   Первая покупка     10 non-null     int64 \n",
      " 8   CTR                10 non-null     object\n",
      " 9   CPM                10 non-null     int64 \n",
      " 10  CPC                10 non-null     int64 \n",
      "dtypes: int64(6), object(5)\n",
      "memory usage: 1008.0+ bytes\n"
     ]
    }
   ],
   "source": [
    "marketing.info()"
   ]
  },
  {
   "cell_type": "code",
   "execution_count": 113,
   "id": "61abb80f",
   "metadata": {},
   "outputs": [
    {
     "data": {
      "text/html": [
       "<div>\n",
       "<style scoped>\n",
       "    .dataframe tbody tr th:only-of-type {\n",
       "        vertical-align: middle;\n",
       "    }\n",
       "\n",
       "    .dataframe tbody tr th {\n",
       "        vertical-align: top;\n",
       "    }\n",
       "\n",
       "    .dataframe thead th {\n",
       "        text-align: right;\n",
       "    }\n",
       "</style>\n",
       "<table border=\"1\" class=\"dataframe\">\n",
       "  <thead>\n",
       "    <tr style=\"text-align: right;\">\n",
       "      <th></th>\n",
       "      <th>Бюджет</th>\n",
       "      <th>Показы</th>\n",
       "      <th>Клики</th>\n",
       "      <th>Первая покупка</th>\n",
       "      <th>CPM</th>\n",
       "      <th>CPC</th>\n",
       "    </tr>\n",
       "  </thead>\n",
       "  <tbody>\n",
       "    <tr>\n",
       "      <th>count</th>\n",
       "      <td>1.000000e+01</td>\n",
       "      <td>1.000000e+01</td>\n",
       "      <td>10.000000</td>\n",
       "      <td>10.000000</td>\n",
       "      <td>10.000000</td>\n",
       "      <td>10.00000</td>\n",
       "    </tr>\n",
       "    <tr>\n",
       "      <th>mean</th>\n",
       "      <td>1.896204e+06</td>\n",
       "      <td>6.003181e+06</td>\n",
       "      <td>66099.800000</td>\n",
       "      <td>212.900000</td>\n",
       "      <td>385.400000</td>\n",
       "      <td>31.10000</td>\n",
       "    </tr>\n",
       "    <tr>\n",
       "      <th>std</th>\n",
       "      <td>1.492912e+06</td>\n",
       "      <td>6.414669e+06</td>\n",
       "      <td>53467.325927</td>\n",
       "      <td>164.466444</td>\n",
       "      <td>115.742242</td>\n",
       "      <td>8.94986</td>\n",
       "    </tr>\n",
       "    <tr>\n",
       "      <th>min</th>\n",
       "      <td>4.028170e+05</td>\n",
       "      <td>9.636770e+05</td>\n",
       "      <td>10600.000000</td>\n",
       "      <td>35.000000</td>\n",
       "      <td>225.000000</td>\n",
       "      <td>18.00000</td>\n",
       "    </tr>\n",
       "    <tr>\n",
       "      <th>25%</th>\n",
       "      <td>8.143375e+05</td>\n",
       "      <td>1.842980e+06</td>\n",
       "      <td>28803.500000</td>\n",
       "      <td>89.000000</td>\n",
       "      <td>290.250000</td>\n",
       "      <td>25.75000</td>\n",
       "    </tr>\n",
       "    <tr>\n",
       "      <th>50%</th>\n",
       "      <td>1.390954e+06</td>\n",
       "      <td>4.313864e+06</td>\n",
       "      <td>59554.500000</td>\n",
       "      <td>213.500000</td>\n",
       "      <td>377.000000</td>\n",
       "      <td>30.50000</td>\n",
       "    </tr>\n",
       "    <tr>\n",
       "      <th>75%</th>\n",
       "      <td>2.521112e+06</td>\n",
       "      <td>5.122002e+06</td>\n",
       "      <td>76828.500000</td>\n",
       "      <td>258.000000</td>\n",
       "      <td>496.000000</td>\n",
       "      <td>38.00000</td>\n",
       "    </tr>\n",
       "    <tr>\n",
       "      <th>max</th>\n",
       "      <td>4.399725e+06</td>\n",
       "      <td>1.928338e+07</td>\n",
       "      <td>173550.000000</td>\n",
       "      <td>545.000000</td>\n",
       "      <td>540.000000</td>\n",
       "      <td>45.00000</td>\n",
       "    </tr>\n",
       "  </tbody>\n",
       "</table>\n",
       "</div>"
      ],
      "text/plain": [
       "             Бюджет        Показы          Клики  Первая покупка         CPM  \\\n",
       "count  1.000000e+01  1.000000e+01      10.000000       10.000000   10.000000   \n",
       "mean   1.896204e+06  6.003181e+06   66099.800000      212.900000  385.400000   \n",
       "std    1.492912e+06  6.414669e+06   53467.325927      164.466444  115.742242   \n",
       "min    4.028170e+05  9.636770e+05   10600.000000       35.000000  225.000000   \n",
       "25%    8.143375e+05  1.842980e+06   28803.500000       89.000000  290.250000   \n",
       "50%    1.390954e+06  4.313864e+06   59554.500000      213.500000  377.000000   \n",
       "75%    2.521112e+06  5.122002e+06   76828.500000      258.000000  496.000000   \n",
       "max    4.399725e+06  1.928338e+07  173550.000000      545.000000  540.000000   \n",
       "\n",
       "            CPC  \n",
       "count  10.00000  \n",
       "mean   31.10000  \n",
       "std     8.94986  \n",
       "min    18.00000  \n",
       "25%    25.75000  \n",
       "50%    30.50000  \n",
       "75%    38.00000  \n",
       "max    45.00000  "
      ]
     },
     "execution_count": 113,
     "metadata": {},
     "output_type": "execute_result"
    }
   ],
   "source": [
    "marketing.describe()"
   ]
  },
  {
   "cell_type": "markdown",
   "id": "3a25a492",
   "metadata": {},
   "source": [
    "# Обработка данных"
   ]
  },
  {
   "cell_type": "markdown",
   "id": "f9a67ae2",
   "metadata": {},
   "source": [
    "## Приведём даты к нужному типу"
   ]
  },
  {
   "cell_type": "code",
   "execution_count": 114,
   "id": "4ed3b07b",
   "metadata": {},
   "outputs": [],
   "source": [
    "users['created_at'] = pd.to_datetime(users['created_at'])"
   ]
  },
  {
   "cell_type": "code",
   "execution_count": 115,
   "id": "a0d9aef2",
   "metadata": {},
   "outputs": [],
   "source": [
    "users['birth_date'] = pd.to_datetime(users['birth_date'])"
   ]
  },
  {
   "cell_type": "code",
   "execution_count": 116,
   "id": "db856ef1",
   "metadata": {},
   "outputs": [
    {
     "data": {
      "text/html": [
       "<div>\n",
       "<style scoped>\n",
       "    .dataframe tbody tr th:only-of-type {\n",
       "        vertical-align: middle;\n",
       "    }\n",
       "\n",
       "    .dataframe tbody tr th {\n",
       "        vertical-align: top;\n",
       "    }\n",
       "\n",
       "    .dataframe thead th {\n",
       "        text-align: right;\n",
       "    }\n",
       "</style>\n",
       "<table border=\"1\" class=\"dataframe\">\n",
       "  <thead>\n",
       "    <tr style=\"text-align: right;\">\n",
       "      <th></th>\n",
       "      <th>user_id</th>\n",
       "      <th>created_at</th>\n",
       "      <th>birth_date</th>\n",
       "      <th>gender</th>\n",
       "    </tr>\n",
       "  </thead>\n",
       "  <tbody>\n",
       "    <tr>\n",
       "      <th>0</th>\n",
       "      <td>f931ccace226da1c</td>\n",
       "      <td>2021-02-02 13:21:15</td>\n",
       "      <td>1956-08-05</td>\n",
       "      <td>male</td>\n",
       "    </tr>\n",
       "    <tr>\n",
       "      <th>1</th>\n",
       "      <td>65aab0ca32b7e096</td>\n",
       "      <td>2021-03-09 05:19:25</td>\n",
       "      <td>1985-01-31</td>\n",
       "      <td>female</td>\n",
       "    </tr>\n",
       "    <tr>\n",
       "      <th>2</th>\n",
       "      <td>2d944cc5996ba4e1</td>\n",
       "      <td>2021-06-06 21:55:39</td>\n",
       "      <td>1995-03-05</td>\n",
       "      <td>male</td>\n",
       "    </tr>\n",
       "    <tr>\n",
       "      <th>3</th>\n",
       "      <td>935d7cac3351d579</td>\n",
       "      <td>2021-09-27 22:49:08</td>\n",
       "      <td>1994-06-05</td>\n",
       "      <td>male</td>\n",
       "    </tr>\n",
       "    <tr>\n",
       "      <th>4</th>\n",
       "      <td>c4a9ab70542f61cb</td>\n",
       "      <td>2021-12-07 03:12:43</td>\n",
       "      <td>1979-08-01</td>\n",
       "      <td>female</td>\n",
       "    </tr>\n",
       "  </tbody>\n",
       "</table>\n",
       "</div>"
      ],
      "text/plain": [
       "            user_id          created_at birth_date  gender\n",
       "0  f931ccace226da1c 2021-02-02 13:21:15 1956-08-05    male\n",
       "1  65aab0ca32b7e096 2021-03-09 05:19:25 1985-01-31  female\n",
       "2  2d944cc5996ba4e1 2021-06-06 21:55:39 1995-03-05    male\n",
       "3  935d7cac3351d579 2021-09-27 22:49:08 1994-06-05    male\n",
       "4  c4a9ab70542f61cb 2021-12-07 03:12:43 1979-08-01  female"
      ]
     },
     "execution_count": 116,
     "metadata": {},
     "output_type": "execute_result"
    }
   ],
   "source": [
    "users.head(5)"
   ]
  },
  {
   "cell_type": "code",
   "execution_count": 117,
   "id": "3daa1299",
   "metadata": {},
   "outputs": [
    {
     "data": {
      "text/plain": [
       "user_id               object\n",
       "created_at    datetime64[ns]\n",
       "birth_date    datetime64[ns]\n",
       "gender                object\n",
       "dtype: object"
      ]
     },
     "execution_count": 117,
     "metadata": {},
     "output_type": "execute_result"
    }
   ],
   "source": [
    "users.dtypes"
   ]
  },
  {
   "cell_type": "code",
   "execution_count": 118,
   "id": "c3e92a20",
   "metadata": {},
   "outputs": [],
   "source": [
    "transactions['created_at'] = pd.to_datetime(transactions['created_at'])"
   ]
  },
  {
   "cell_type": "code",
   "execution_count": 119,
   "id": "ec1f2c5b",
   "metadata": {},
   "outputs": [
    {
     "data": {
      "text/html": [
       "<div>\n",
       "<style scoped>\n",
       "    .dataframe tbody tr th:only-of-type {\n",
       "        vertical-align: middle;\n",
       "    }\n",
       "\n",
       "    .dataframe tbody tr th {\n",
       "        vertical-align: top;\n",
       "    }\n",
       "\n",
       "    .dataframe thead th {\n",
       "        text-align: right;\n",
       "    }\n",
       "</style>\n",
       "<table border=\"1\" class=\"dataframe\">\n",
       "  <thead>\n",
       "    <tr style=\"text-align: right;\">\n",
       "      <th></th>\n",
       "      <th>transaction_id</th>\n",
       "      <th>created_at</th>\n",
       "      <th>user_id</th>\n",
       "      <th>amount</th>\n",
       "    </tr>\n",
       "  </thead>\n",
       "  <tbody>\n",
       "    <tr>\n",
       "      <th>0</th>\n",
       "      <td>e8152ef72822baae14866c30d5155ec8</td>\n",
       "      <td>2022-04-27 21:58:28</td>\n",
       "      <td>e1d22453e5f60161</td>\n",
       "      <td>213</td>\n",
       "    </tr>\n",
       "    <tr>\n",
       "      <th>1</th>\n",
       "      <td>9305700c4b7364cda47edaf6990ab7bc</td>\n",
       "      <td>2022-02-19 14:57:37</td>\n",
       "      <td>e1d22453e5f60161</td>\n",
       "      <td>128</td>\n",
       "    </tr>\n",
       "    <tr>\n",
       "      <th>2</th>\n",
       "      <td>3e89681d4f3d62beed4db199c719da8f</td>\n",
       "      <td>2021-12-09 20:40:10</td>\n",
       "      <td>e1d22453e5f60161</td>\n",
       "      <td>391</td>\n",
       "    </tr>\n",
       "    <tr>\n",
       "      <th>3</th>\n",
       "      <td>50c2d79c35513eaa1864999106f91dc3</td>\n",
       "      <td>2022-04-30 09:09:54</td>\n",
       "      <td>e08aa20152ca92c7</td>\n",
       "      <td>163</td>\n",
       "    </tr>\n",
       "    <tr>\n",
       "      <th>4</th>\n",
       "      <td>ce34444f31415fe2993d5b1dbe2ac846</td>\n",
       "      <td>2021-11-05 05:45:31</td>\n",
       "      <td>e08aa20152ca92c7</td>\n",
       "      <td>329</td>\n",
       "    </tr>\n",
       "  </tbody>\n",
       "</table>\n",
       "</div>"
      ],
      "text/plain": [
       "                     transaction_id          created_at           user_id  \\\n",
       "0  e8152ef72822baae14866c30d5155ec8 2022-04-27 21:58:28  e1d22453e5f60161   \n",
       "1  9305700c4b7364cda47edaf6990ab7bc 2022-02-19 14:57:37  e1d22453e5f60161   \n",
       "2  3e89681d4f3d62beed4db199c719da8f 2021-12-09 20:40:10  e1d22453e5f60161   \n",
       "3  50c2d79c35513eaa1864999106f91dc3 2022-04-30 09:09:54  e08aa20152ca92c7   \n",
       "4  ce34444f31415fe2993d5b1dbe2ac846 2021-11-05 05:45:31  e08aa20152ca92c7   \n",
       "\n",
       "   amount  \n",
       "0     213  \n",
       "1     128  \n",
       "2     391  \n",
       "3     163  \n",
       "4     329  "
      ]
     },
     "execution_count": 119,
     "metadata": {},
     "output_type": "execute_result"
    }
   ],
   "source": [
    "transactions.head(5)"
   ]
  },
  {
   "cell_type": "code",
   "execution_count": 120,
   "id": "76d8329a",
   "metadata": {},
   "outputs": [
    {
     "data": {
      "text/plain": [
       "transaction_id            object\n",
       "created_at        datetime64[ns]\n",
       "user_id                   object\n",
       "amount                     int64\n",
       "dtype: object"
      ]
     },
     "execution_count": 120,
     "metadata": {},
     "output_type": "execute_result"
    }
   ],
   "source": [
    "transactions.dtypes"
   ]
  },
  {
   "cell_type": "markdown",
   "id": "dd5eb185",
   "metadata": {},
   "source": [
    "## Рассчитаем возраст пользователей для разбиения их на группы и дальнейшего анализа"
   ]
  },
  {
   "cell_type": "code",
   "execution_count": 121,
   "id": "58c5d241",
   "metadata": {},
   "outputs": [
    {
     "name": "stderr",
     "output_type": "stream",
     "text": [
      "D:\\anaconda\\lib\\site-packages\\pandas\\core\\arrays\\datetimes.py:2224: FutureWarning: The parsing of 'now' in pd.to_datetime without `utc=True` is deprecated. In a future version, this will match Timestamp('now') and Timestamp.now()\n",
      "  result, tz_parsed = tslib.array_to_datetime(\n"
     ]
    }
   ],
   "source": [
    "users['age'] = (pd.to_datetime('now') - users['birth_date']) // timedelta(days=365.2425)"
   ]
  },
  {
   "cell_type": "code",
   "execution_count": 122,
   "id": "609958fa",
   "metadata": {
    "scrolled": false
   },
   "outputs": [
    {
     "data": {
      "text/html": [
       "<div>\n",
       "<style scoped>\n",
       "    .dataframe tbody tr th:only-of-type {\n",
       "        vertical-align: middle;\n",
       "    }\n",
       "\n",
       "    .dataframe tbody tr th {\n",
       "        vertical-align: top;\n",
       "    }\n",
       "\n",
       "    .dataframe thead th {\n",
       "        text-align: right;\n",
       "    }\n",
       "</style>\n",
       "<table border=\"1\" class=\"dataframe\">\n",
       "  <thead>\n",
       "    <tr style=\"text-align: right;\">\n",
       "      <th></th>\n",
       "      <th>user_id</th>\n",
       "      <th>created_at</th>\n",
       "      <th>birth_date</th>\n",
       "      <th>gender</th>\n",
       "      <th>age</th>\n",
       "    </tr>\n",
       "  </thead>\n",
       "  <tbody>\n",
       "    <tr>\n",
       "      <th>0</th>\n",
       "      <td>f931ccace226da1c</td>\n",
       "      <td>2021-02-02 13:21:15</td>\n",
       "      <td>1956-08-05</td>\n",
       "      <td>male</td>\n",
       "      <td>66</td>\n",
       "    </tr>\n",
       "    <tr>\n",
       "      <th>1</th>\n",
       "      <td>65aab0ca32b7e096</td>\n",
       "      <td>2021-03-09 05:19:25</td>\n",
       "      <td>1985-01-31</td>\n",
       "      <td>female</td>\n",
       "      <td>37</td>\n",
       "    </tr>\n",
       "    <tr>\n",
       "      <th>2</th>\n",
       "      <td>2d944cc5996ba4e1</td>\n",
       "      <td>2021-06-06 21:55:39</td>\n",
       "      <td>1995-03-05</td>\n",
       "      <td>male</td>\n",
       "      <td>27</td>\n",
       "    </tr>\n",
       "    <tr>\n",
       "      <th>3</th>\n",
       "      <td>935d7cac3351d579</td>\n",
       "      <td>2021-09-27 22:49:08</td>\n",
       "      <td>1994-06-05</td>\n",
       "      <td>male</td>\n",
       "      <td>28</td>\n",
       "    </tr>\n",
       "    <tr>\n",
       "      <th>4</th>\n",
       "      <td>c4a9ab70542f61cb</td>\n",
       "      <td>2021-12-07 03:12:43</td>\n",
       "      <td>1979-08-01</td>\n",
       "      <td>female</td>\n",
       "      <td>43</td>\n",
       "    </tr>\n",
       "  </tbody>\n",
       "</table>\n",
       "</div>"
      ],
      "text/plain": [
       "            user_id          created_at birth_date  gender  age\n",
       "0  f931ccace226da1c 2021-02-02 13:21:15 1956-08-05    male   66\n",
       "1  65aab0ca32b7e096 2021-03-09 05:19:25 1985-01-31  female   37\n",
       "2  2d944cc5996ba4e1 2021-06-06 21:55:39 1995-03-05    male   27\n",
       "3  935d7cac3351d579 2021-09-27 22:49:08 1994-06-05    male   28\n",
       "4  c4a9ab70542f61cb 2021-12-07 03:12:43 1979-08-01  female   43"
      ]
     },
     "execution_count": 122,
     "metadata": {},
     "output_type": "execute_result"
    }
   ],
   "source": [
    "users.head(5)"
   ]
  },
  {
   "cell_type": "code",
   "execution_count": 123,
   "id": "3b48ca68",
   "metadata": {},
   "outputs": [
    {
     "data": {
      "text/plain": [
       "array(['CPC_female_18-24', 'CPC_male_18-24', 'CPC_female_25-34',\n",
       "       'CPC_male_25-34', 'CPC_female_35-44', 'CPC_male_35-44',\n",
       "       'CPC_female_45-54', 'CPC_male_45-54', 'CPC_female_55+',\n",
       "       'CPC_male_55+'], dtype=object)"
      ]
     },
     "execution_count": 123,
     "metadata": {},
     "output_type": "execute_result"
    }
   ],
   "source": [
    "marketing['Название кампании'].unique()"
   ]
  },
  {
   "cell_type": "code",
   "execution_count": 124,
   "id": "13a900d9",
   "metadata": {},
   "outputs": [],
   "source": [
    "def age_group(age, gender):\n",
    "    try:\n",
    "        if 18 <= age <= 24:\n",
    "            if gender == 'male':\n",
    "                return  'CPC_male_18-24'\n",
    "            else:\n",
    "                return  'CPC_female_18-24'\n",
    "        if 25 <= age <= 34:\n",
    "            if gender == 'male':\n",
    "                return  'CPC_male_25-34'\n",
    "            else:\n",
    "                return  'CPC_female_25-34'\n",
    "        if 35 <= age <= 44:\n",
    "            if gender == 'male':\n",
    "                return  'CPC_male_35-44'\n",
    "            else:\n",
    "                return  'CPC_female_35-44'\n",
    "        if 45 <= age <= 54:\n",
    "            if gender == 'male':\n",
    "                return  'CPC_male_45-54'\n",
    "            else:\n",
    "                return  'CPC_female_45-54'\n",
    "        if 55 <= age:\n",
    "            if gender == 'male':\n",
    "                return  'CPC_male_55+'\n",
    "            else:\n",
    "                return  'CPC_female_55+'            \n",
    "    except:\n",
    "        pass"
   ]
  },
  {
   "cell_type": "code",
   "execution_count": 125,
   "id": "f1f7756f",
   "metadata": {},
   "outputs": [],
   "source": [
    "users['age_group'] = users[['age', 'gender']].apply(lambda x: age_group(*x) , axis=1)"
   ]
  },
  {
   "cell_type": "code",
   "execution_count": 126,
   "id": "3994a0fb",
   "metadata": {
    "scrolled": true
   },
   "outputs": [
    {
     "data": {
      "text/html": [
       "<div>\n",
       "<style scoped>\n",
       "    .dataframe tbody tr th:only-of-type {\n",
       "        vertical-align: middle;\n",
       "    }\n",
       "\n",
       "    .dataframe tbody tr th {\n",
       "        vertical-align: top;\n",
       "    }\n",
       "\n",
       "    .dataframe thead th {\n",
       "        text-align: right;\n",
       "    }\n",
       "</style>\n",
       "<table border=\"1\" class=\"dataframe\">\n",
       "  <thead>\n",
       "    <tr style=\"text-align: right;\">\n",
       "      <th></th>\n",
       "      <th>user_id</th>\n",
       "      <th>created_at</th>\n",
       "      <th>birth_date</th>\n",
       "      <th>gender</th>\n",
       "      <th>age</th>\n",
       "      <th>age_group</th>\n",
       "    </tr>\n",
       "  </thead>\n",
       "  <tbody>\n",
       "    <tr>\n",
       "      <th>0</th>\n",
       "      <td>f931ccace226da1c</td>\n",
       "      <td>2021-02-02 13:21:15</td>\n",
       "      <td>1956-08-05</td>\n",
       "      <td>male</td>\n",
       "      <td>66</td>\n",
       "      <td>CPC_male_55+</td>\n",
       "    </tr>\n",
       "    <tr>\n",
       "      <th>1</th>\n",
       "      <td>65aab0ca32b7e096</td>\n",
       "      <td>2021-03-09 05:19:25</td>\n",
       "      <td>1985-01-31</td>\n",
       "      <td>female</td>\n",
       "      <td>37</td>\n",
       "      <td>CPC_female_35-44</td>\n",
       "    </tr>\n",
       "    <tr>\n",
       "      <th>2</th>\n",
       "      <td>2d944cc5996ba4e1</td>\n",
       "      <td>2021-06-06 21:55:39</td>\n",
       "      <td>1995-03-05</td>\n",
       "      <td>male</td>\n",
       "      <td>27</td>\n",
       "      <td>CPC_male_25-34</td>\n",
       "    </tr>\n",
       "    <tr>\n",
       "      <th>3</th>\n",
       "      <td>935d7cac3351d579</td>\n",
       "      <td>2021-09-27 22:49:08</td>\n",
       "      <td>1994-06-05</td>\n",
       "      <td>male</td>\n",
       "      <td>28</td>\n",
       "      <td>CPC_male_25-34</td>\n",
       "    </tr>\n",
       "    <tr>\n",
       "      <th>4</th>\n",
       "      <td>c4a9ab70542f61cb</td>\n",
       "      <td>2021-12-07 03:12:43</td>\n",
       "      <td>1979-08-01</td>\n",
       "      <td>female</td>\n",
       "      <td>43</td>\n",
       "      <td>CPC_female_35-44</td>\n",
       "    </tr>\n",
       "  </tbody>\n",
       "</table>\n",
       "</div>"
      ],
      "text/plain": [
       "            user_id          created_at birth_date  gender  age  \\\n",
       "0  f931ccace226da1c 2021-02-02 13:21:15 1956-08-05    male   66   \n",
       "1  65aab0ca32b7e096 2021-03-09 05:19:25 1985-01-31  female   37   \n",
       "2  2d944cc5996ba4e1 2021-06-06 21:55:39 1995-03-05    male   27   \n",
       "3  935d7cac3351d579 2021-09-27 22:49:08 1994-06-05    male   28   \n",
       "4  c4a9ab70542f61cb 2021-12-07 03:12:43 1979-08-01  female   43   \n",
       "\n",
       "          age_group  \n",
       "0      CPC_male_55+  \n",
       "1  CPC_female_35-44  \n",
       "2    CPC_male_25-34  \n",
       "3    CPC_male_25-34  \n",
       "4  CPC_female_35-44  "
      ]
     },
     "execution_count": 126,
     "metadata": {},
     "output_type": "execute_result"
    }
   ],
   "source": [
    "users.head(5)"
   ]
  },
  {
   "cell_type": "markdown",
   "id": "8e921f8a",
   "metadata": {},
   "source": [
    "## Cоединим наши таблички users и transactions в одну для дальнейшего анализа"
   ]
  },
  {
   "cell_type": "code",
   "execution_count": 127,
   "id": "bd15b92e",
   "metadata": {},
   "outputs": [],
   "source": [
    "users_trans = users.merge(transactions, on = 'user_id')"
   ]
  },
  {
   "cell_type": "code",
   "execution_count": 128,
   "id": "b00f58c5",
   "metadata": {
    "scrolled": false
   },
   "outputs": [
    {
     "data": {
      "text/html": [
       "<div>\n",
       "<style scoped>\n",
       "    .dataframe tbody tr th:only-of-type {\n",
       "        vertical-align: middle;\n",
       "    }\n",
       "\n",
       "    .dataframe tbody tr th {\n",
       "        vertical-align: top;\n",
       "    }\n",
       "\n",
       "    .dataframe thead th {\n",
       "        text-align: right;\n",
       "    }\n",
       "</style>\n",
       "<table border=\"1\" class=\"dataframe\">\n",
       "  <thead>\n",
       "    <tr style=\"text-align: right;\">\n",
       "      <th></th>\n",
       "      <th>user_id</th>\n",
       "      <th>created_at_x</th>\n",
       "      <th>birth_date</th>\n",
       "      <th>gender</th>\n",
       "      <th>age</th>\n",
       "      <th>age_group</th>\n",
       "      <th>transaction_id</th>\n",
       "      <th>created_at_y</th>\n",
       "      <th>amount</th>\n",
       "    </tr>\n",
       "  </thead>\n",
       "  <tbody>\n",
       "    <tr>\n",
       "      <th>0</th>\n",
       "      <td>f931ccace226da1c</td>\n",
       "      <td>2021-02-02 13:21:15</td>\n",
       "      <td>1956-08-05</td>\n",
       "      <td>male</td>\n",
       "      <td>66</td>\n",
       "      <td>CPC_male_55+</td>\n",
       "      <td>8b8d2f4374c677b9e98495b9ec9f7284</td>\n",
       "      <td>2021-05-09 08:37:02</td>\n",
       "      <td>184</td>\n",
       "    </tr>\n",
       "    <tr>\n",
       "      <th>1</th>\n",
       "      <td>f931ccace226da1c</td>\n",
       "      <td>2021-02-02 13:21:15</td>\n",
       "      <td>1956-08-05</td>\n",
       "      <td>male</td>\n",
       "      <td>66</td>\n",
       "      <td>CPC_male_55+</td>\n",
       "      <td>922d9169dc1545912d56ac13de715005</td>\n",
       "      <td>2021-09-08 07:40:02</td>\n",
       "      <td>2328</td>\n",
       "    </tr>\n",
       "    <tr>\n",
       "      <th>2</th>\n",
       "      <td>65aab0ca32b7e096</td>\n",
       "      <td>2021-03-09 05:19:25</td>\n",
       "      <td>1985-01-31</td>\n",
       "      <td>female</td>\n",
       "      <td>37</td>\n",
       "      <td>CPC_female_35-44</td>\n",
       "      <td>092b25e3aeea53eb8edd0f4fdb43af9c</td>\n",
       "      <td>2021-12-10 04:27:32</td>\n",
       "      <td>4450</td>\n",
       "    </tr>\n",
       "    <tr>\n",
       "      <th>3</th>\n",
       "      <td>65aab0ca32b7e096</td>\n",
       "      <td>2021-03-09 05:19:25</td>\n",
       "      <td>1985-01-31</td>\n",
       "      <td>female</td>\n",
       "      <td>37</td>\n",
       "      <td>CPC_female_35-44</td>\n",
       "      <td>d68d22fe215973be3f0ecc9502cf7a62</td>\n",
       "      <td>2022-01-03 03:33:29</td>\n",
       "      <td>373</td>\n",
       "    </tr>\n",
       "    <tr>\n",
       "      <th>4</th>\n",
       "      <td>65aab0ca32b7e096</td>\n",
       "      <td>2021-03-09 05:19:25</td>\n",
       "      <td>1985-01-31</td>\n",
       "      <td>female</td>\n",
       "      <td>37</td>\n",
       "      <td>CPC_female_35-44</td>\n",
       "      <td>b33a0a61fd900f802a58dbe1d7648679</td>\n",
       "      <td>2022-02-01 13:03:13</td>\n",
       "      <td>912</td>\n",
       "    </tr>\n",
       "  </tbody>\n",
       "</table>\n",
       "</div>"
      ],
      "text/plain": [
       "            user_id        created_at_x birth_date  gender  age  \\\n",
       "0  f931ccace226da1c 2021-02-02 13:21:15 1956-08-05    male   66   \n",
       "1  f931ccace226da1c 2021-02-02 13:21:15 1956-08-05    male   66   \n",
       "2  65aab0ca32b7e096 2021-03-09 05:19:25 1985-01-31  female   37   \n",
       "3  65aab0ca32b7e096 2021-03-09 05:19:25 1985-01-31  female   37   \n",
       "4  65aab0ca32b7e096 2021-03-09 05:19:25 1985-01-31  female   37   \n",
       "\n",
       "          age_group                    transaction_id        created_at_y  \\\n",
       "0      CPC_male_55+  8b8d2f4374c677b9e98495b9ec9f7284 2021-05-09 08:37:02   \n",
       "1      CPC_male_55+  922d9169dc1545912d56ac13de715005 2021-09-08 07:40:02   \n",
       "2  CPC_female_35-44  092b25e3aeea53eb8edd0f4fdb43af9c 2021-12-10 04:27:32   \n",
       "3  CPC_female_35-44  d68d22fe215973be3f0ecc9502cf7a62 2022-01-03 03:33:29   \n",
       "4  CPC_female_35-44  b33a0a61fd900f802a58dbe1d7648679 2022-02-01 13:03:13   \n",
       "\n",
       "   amount  \n",
       "0     184  \n",
       "1    2328  \n",
       "2    4450  \n",
       "3     373  \n",
       "4     912  "
      ]
     },
     "execution_count": 128,
     "metadata": {},
     "output_type": "execute_result"
    }
   ],
   "source": [
    "users_trans.head(5)"
   ]
  },
  {
   "cell_type": "code",
   "execution_count": 129,
   "id": "f8ca099c",
   "metadata": {},
   "outputs": [
    {
     "data": {
      "text/html": [
       "<div>\n",
       "<style scoped>\n",
       "    .dataframe tbody tr th:only-of-type {\n",
       "        vertical-align: middle;\n",
       "    }\n",
       "\n",
       "    .dataframe tbody tr th {\n",
       "        vertical-align: top;\n",
       "    }\n",
       "\n",
       "    .dataframe thead th {\n",
       "        text-align: right;\n",
       "    }\n",
       "</style>\n",
       "<table border=\"1\" class=\"dataframe\">\n",
       "  <thead>\n",
       "    <tr style=\"text-align: right;\">\n",
       "      <th></th>\n",
       "      <th>user_id</th>\n",
       "      <th>created_at_x</th>\n",
       "      <th>birth_date</th>\n",
       "      <th>gender</th>\n",
       "      <th>age</th>\n",
       "      <th>age_group</th>\n",
       "      <th>transaction_id</th>\n",
       "      <th>created_at_y</th>\n",
       "      <th>amount</th>\n",
       "    </tr>\n",
       "  </thead>\n",
       "  <tbody>\n",
       "    <tr>\n",
       "      <th>75054</th>\n",
       "      <td>8790d57345a276fe</td>\n",
       "      <td>2021-07-24 04:05:39</td>\n",
       "      <td>1997-05-02</td>\n",
       "      <td>female</td>\n",
       "      <td>25</td>\n",
       "      <td>CPC_female_25-34</td>\n",
       "      <td>d0914baa833c5bc0fe9e39df25fdaead</td>\n",
       "      <td>2022-03-10 03:50:35</td>\n",
       "      <td>151</td>\n",
       "    </tr>\n",
       "    <tr>\n",
       "      <th>75055</th>\n",
       "      <td>8790d57345a276fe</td>\n",
       "      <td>2021-07-24 04:05:39</td>\n",
       "      <td>1997-05-02</td>\n",
       "      <td>female</td>\n",
       "      <td>25</td>\n",
       "      <td>CPC_female_25-34</td>\n",
       "      <td>04d421cf5ed506697379da06f7ecd5d8</td>\n",
       "      <td>2021-11-20 16:53:37</td>\n",
       "      <td>339</td>\n",
       "    </tr>\n",
       "    <tr>\n",
       "      <th>75056</th>\n",
       "      <td>302eae5ccad4c474</td>\n",
       "      <td>2021-07-15 09:22:25</td>\n",
       "      <td>2001-12-16</td>\n",
       "      <td>female</td>\n",
       "      <td>21</td>\n",
       "      <td>CPC_female_18-24</td>\n",
       "      <td>774f0293dca6ba504be0b3568f1539e4</td>\n",
       "      <td>2021-11-21 23:13:15</td>\n",
       "      <td>109</td>\n",
       "    </tr>\n",
       "    <tr>\n",
       "      <th>75057</th>\n",
       "      <td>302eae5ccad4c474</td>\n",
       "      <td>2021-07-15 09:22:25</td>\n",
       "      <td>2001-12-16</td>\n",
       "      <td>female</td>\n",
       "      <td>21</td>\n",
       "      <td>CPC_female_18-24</td>\n",
       "      <td>69c8b5027989c654046cf50653a2fe33</td>\n",
       "      <td>2021-11-11 04:03:16</td>\n",
       "      <td>769</td>\n",
       "    </tr>\n",
       "    <tr>\n",
       "      <th>75058</th>\n",
       "      <td>302eae5ccad4c474</td>\n",
       "      <td>2021-07-15 09:22:25</td>\n",
       "      <td>2001-12-16</td>\n",
       "      <td>female</td>\n",
       "      <td>21</td>\n",
       "      <td>CPC_female_18-24</td>\n",
       "      <td>22dce766cb7aa74d53120434b7f12a93</td>\n",
       "      <td>2022-03-05 02:00:17</td>\n",
       "      <td>2389</td>\n",
       "    </tr>\n",
       "  </tbody>\n",
       "</table>\n",
       "</div>"
      ],
      "text/plain": [
       "                user_id        created_at_x birth_date  gender  age  \\\n",
       "75054  8790d57345a276fe 2021-07-24 04:05:39 1997-05-02  female   25   \n",
       "75055  8790d57345a276fe 2021-07-24 04:05:39 1997-05-02  female   25   \n",
       "75056  302eae5ccad4c474 2021-07-15 09:22:25 2001-12-16  female   21   \n",
       "75057  302eae5ccad4c474 2021-07-15 09:22:25 2001-12-16  female   21   \n",
       "75058  302eae5ccad4c474 2021-07-15 09:22:25 2001-12-16  female   21   \n",
       "\n",
       "              age_group                    transaction_id        created_at_y  \\\n",
       "75054  CPC_female_25-34  d0914baa833c5bc0fe9e39df25fdaead 2022-03-10 03:50:35   \n",
       "75055  CPC_female_25-34  04d421cf5ed506697379da06f7ecd5d8 2021-11-20 16:53:37   \n",
       "75056  CPC_female_18-24  774f0293dca6ba504be0b3568f1539e4 2021-11-21 23:13:15   \n",
       "75057  CPC_female_18-24  69c8b5027989c654046cf50653a2fe33 2021-11-11 04:03:16   \n",
       "75058  CPC_female_18-24  22dce766cb7aa74d53120434b7f12a93 2022-03-05 02:00:17   \n",
       "\n",
       "       amount  \n",
       "75054     151  \n",
       "75055     339  \n",
       "75056     109  \n",
       "75057     769  \n",
       "75058    2389  "
      ]
     },
     "execution_count": 129,
     "metadata": {},
     "output_type": "execute_result"
    }
   ],
   "source": [
    "users_trans.tail(5)"
   ]
  },
  {
   "cell_type": "code",
   "execution_count": 130,
   "id": "7fe2358b",
   "metadata": {},
   "outputs": [
    {
     "name": "stdout",
     "output_type": "stream",
     "text": [
      "<class 'pandas.core.frame.DataFrame'>\n",
      "Int64Index: 75059 entries, 0 to 75058\n",
      "Data columns (total 9 columns):\n",
      " #   Column          Non-Null Count  Dtype         \n",
      "---  ------          --------------  -----         \n",
      " 0   user_id         75059 non-null  object        \n",
      " 1   created_at_x    75059 non-null  datetime64[ns]\n",
      " 2   birth_date      75059 non-null  datetime64[ns]\n",
      " 3   gender          75059 non-null  object        \n",
      " 4   age             75059 non-null  int64         \n",
      " 5   age_group       75059 non-null  object        \n",
      " 6   transaction_id  75059 non-null  object        \n",
      " 7   created_at_y    75059 non-null  datetime64[ns]\n",
      " 8   amount          75059 non-null  int64         \n",
      "dtypes: datetime64[ns](3), int64(2), object(4)\n",
      "memory usage: 5.7+ MB\n"
     ]
    }
   ],
   "source": [
    "users_trans.info()"
   ]
  },
  {
   "cell_type": "markdown",
   "id": "19b7e2a1",
   "metadata": {},
   "source": [
    "# Анализ данных"
   ]
  },
  {
   "cell_type": "markdown",
   "id": "63bc42b6",
   "metadata": {},
   "source": [
    "Первоначально рассчитаем ROI для каждой рекламной акции"
   ]
  },
  {
   "cell_type": "markdown",
   "id": "c66ad0d5",
   "metadata": {},
   "source": [
    "## Расчёт ROI"
   ]
  },
  {
   "cell_type": "markdown",
   "id": "7a38814c",
   "metadata": {},
   "source": [
    "ROI — коэффициент окупаемости. Этот показатель демонстрирует прибыльность или убыточность той или иной инвестиции. Рассчитывается по формуле: __`(Доход от вложений - размер вложений) / Размер вложений * 100%`__"
   ]
  },
  {
   "cell_type": "code",
   "execution_count": 131,
   "id": "4ad64708",
   "metadata": {
    "scrolled": true
   },
   "outputs": [
    {
     "data": {
      "text/html": [
       "<div>\n",
       "<style scoped>\n",
       "    .dataframe tbody tr th:only-of-type {\n",
       "        vertical-align: middle;\n",
       "    }\n",
       "\n",
       "    .dataframe tbody tr th {\n",
       "        vertical-align: top;\n",
       "    }\n",
       "\n",
       "    .dataframe thead th {\n",
       "        text-align: right;\n",
       "    }\n",
       "</style>\n",
       "<table border=\"1\" class=\"dataframe\">\n",
       "  <thead>\n",
       "    <tr style=\"text-align: right;\">\n",
       "      <th></th>\n",
       "      <th>Название кампании</th>\n",
       "      <th>Возраст</th>\n",
       "      <th>Пол</th>\n",
       "      <th>Тип ставки</th>\n",
       "      <th>Бюджет</th>\n",
       "      <th>Показы</th>\n",
       "      <th>Клики</th>\n",
       "      <th>Первая покупка</th>\n",
       "      <th>CTR</th>\n",
       "      <th>CPM</th>\n",
       "      <th>CPC</th>\n",
       "    </tr>\n",
       "  </thead>\n",
       "  <tbody>\n",
       "    <tr>\n",
       "      <th>0</th>\n",
       "      <td>CPC_female_18-24</td>\n",
       "      <td>18-24</td>\n",
       "      <td>female</td>\n",
       "      <td>CPC</td>\n",
       "      <td>1492716</td>\n",
       "      <td>5237600</td>\n",
       "      <td>78564</td>\n",
       "      <td>271</td>\n",
       "      <td>0,015</td>\n",
       "      <td>285</td>\n",
       "      <td>19</td>\n",
       "    </tr>\n",
       "    <tr>\n",
       "      <th>1</th>\n",
       "      <td>CPC_male_18-24</td>\n",
       "      <td>18-24</td>\n",
       "      <td>male</td>\n",
       "      <td>CPC</td>\n",
       "      <td>1289193</td>\n",
       "      <td>4213049</td>\n",
       "      <td>71622</td>\n",
       "      <td>211</td>\n",
       "      <td>0,017</td>\n",
       "      <td>306</td>\n",
       "      <td>18</td>\n",
       "    </tr>\n",
       "    <tr>\n",
       "      <th>2</th>\n",
       "      <td>CPC_female_25-34</td>\n",
       "      <td>25-34</td>\n",
       "      <td>female</td>\n",
       "      <td>CPC</td>\n",
       "      <td>4338761</td>\n",
       "      <td>19283382</td>\n",
       "      <td>173550</td>\n",
       "      <td>545</td>\n",
       "      <td>0,009</td>\n",
       "      <td>225</td>\n",
       "      <td>25</td>\n",
       "    </tr>\n",
       "    <tr>\n",
       "      <th>3</th>\n",
       "      <td>CPC_male_25-34</td>\n",
       "      <td>25-34</td>\n",
       "      <td>male</td>\n",
       "      <td>CPC</td>\n",
       "      <td>4399725</td>\n",
       "      <td>16175460</td>\n",
       "      <td>137491</td>\n",
       "      <td>410</td>\n",
       "      <td>0,0085</td>\n",
       "      <td>272</td>\n",
       "      <td>32</td>\n",
       "    </tr>\n",
       "    <tr>\n",
       "      <th>4</th>\n",
       "      <td>CPC_female_35-44</td>\n",
       "      <td>35-44</td>\n",
       "      <td>female</td>\n",
       "      <td>CPC</td>\n",
       "      <td>2578613</td>\n",
       "      <td>4775209</td>\n",
       "      <td>57303</td>\n",
       "      <td>219</td>\n",
       "      <td>0,012</td>\n",
       "      <td>540</td>\n",
       "      <td>45</td>\n",
       "    </tr>\n",
       "  </tbody>\n",
       "</table>\n",
       "</div>"
      ],
      "text/plain": [
       "  Название кампании Возраст     Пол Тип ставки   Бюджет    Показы   Клики  \\\n",
       "0  CPC_female_18-24   18-24  female        CPC  1492716   5237600   78564   \n",
       "1    CPC_male_18-24   18-24    male        CPC  1289193   4213049   71622   \n",
       "2  CPC_female_25-34   25-34  female        CPC  4338761  19283382  173550   \n",
       "3    CPC_male_25-34   25-34    male        CPC  4399725  16175460  137491   \n",
       "4  CPC_female_35-44   35-44  female        CPC  2578613   4775209   57303   \n",
       "\n",
       "   Первая покупка     CTR  CPM  CPC  \n",
       "0             271   0,015  285   19  \n",
       "1             211   0,017  306   18  \n",
       "2             545   0,009  225   25  \n",
       "3             410  0,0085  272   32  \n",
       "4             219   0,012  540   45  "
      ]
     },
     "execution_count": 131,
     "metadata": {},
     "output_type": "execute_result"
    }
   ],
   "source": [
    "marketing.head(5)"
   ]
  },
  {
   "cell_type": "code",
   "execution_count": 132,
   "id": "64b9c92e",
   "metadata": {},
   "outputs": [],
   "source": [
    "marketing = marketing.rename(columns = {'Название кампании':'age_group'})"
   ]
  },
  {
   "cell_type": "code",
   "execution_count": 133,
   "id": "4d947464",
   "metadata": {},
   "outputs": [],
   "source": [
    "sum_by_group = users_trans.groupby('age_group', as_index = False)['amount'].sum() \\\n",
    ".merge(marketing, on = 'age_group')[['age_group', 'Бюджет', 'amount']]"
   ]
  },
  {
   "cell_type": "code",
   "execution_count": 134,
   "id": "0759f9c0",
   "metadata": {},
   "outputs": [
    {
     "data": {
      "text/html": [
       "<div>\n",
       "<style scoped>\n",
       "    .dataframe tbody tr th:only-of-type {\n",
       "        vertical-align: middle;\n",
       "    }\n",
       "\n",
       "    .dataframe tbody tr th {\n",
       "        vertical-align: top;\n",
       "    }\n",
       "\n",
       "    .dataframe thead th {\n",
       "        text-align: right;\n",
       "    }\n",
       "</style>\n",
       "<table border=\"1\" class=\"dataframe\">\n",
       "  <thead>\n",
       "    <tr style=\"text-align: right;\">\n",
       "      <th></th>\n",
       "      <th>age_group</th>\n",
       "      <th>Бюджет</th>\n",
       "      <th>amount</th>\n",
       "    </tr>\n",
       "  </thead>\n",
       "  <tbody>\n",
       "    <tr>\n",
       "      <th>0</th>\n",
       "      <td>CPC_female_18-24</td>\n",
       "      <td>1492716</td>\n",
       "      <td>4579011</td>\n",
       "    </tr>\n",
       "    <tr>\n",
       "      <th>1</th>\n",
       "      <td>CPC_female_25-34</td>\n",
       "      <td>4338761</td>\n",
       "      <td>24899415</td>\n",
       "    </tr>\n",
       "    <tr>\n",
       "      <th>2</th>\n",
       "      <td>CPC_female_35-44</td>\n",
       "      <td>2578613</td>\n",
       "      <td>18160102</td>\n",
       "    </tr>\n",
       "    <tr>\n",
       "      <th>3</th>\n",
       "      <td>CPC_female_45-54</td>\n",
       "      <td>908437</td>\n",
       "      <td>6549392</td>\n",
       "    </tr>\n",
       "    <tr>\n",
       "      <th>4</th>\n",
       "      <td>CPC_female_55+</td>\n",
       "      <td>402817</td>\n",
       "      <td>2319843</td>\n",
       "    </tr>\n",
       "    <tr>\n",
       "      <th>5</th>\n",
       "      <td>CPC_male_18-24</td>\n",
       "      <td>1289193</td>\n",
       "      <td>2159076</td>\n",
       "    </tr>\n",
       "    <tr>\n",
       "      <th>6</th>\n",
       "      <td>CPC_male_25-34</td>\n",
       "      <td>4399725</td>\n",
       "      <td>13199609</td>\n",
       "    </tr>\n",
       "    <tr>\n",
       "      <th>7</th>\n",
       "      <td>CPC_male_35-44</td>\n",
       "      <td>2348610</td>\n",
       "      <td>8979779</td>\n",
       "    </tr>\n",
       "    <tr>\n",
       "      <th>8</th>\n",
       "      <td>CPC_male_45-54</td>\n",
       "      <td>782971</td>\n",
       "      <td>4739299</td>\n",
       "    </tr>\n",
       "    <tr>\n",
       "      <th>9</th>\n",
       "      <td>CPC_male_55+</td>\n",
       "      <td>420199</td>\n",
       "      <td>1685579</td>\n",
       "    </tr>\n",
       "  </tbody>\n",
       "</table>\n",
       "</div>"
      ],
      "text/plain": [
       "          age_group   Бюджет    amount\n",
       "0  CPC_female_18-24  1492716   4579011\n",
       "1  CPC_female_25-34  4338761  24899415\n",
       "2  CPC_female_35-44  2578613  18160102\n",
       "3  CPC_female_45-54   908437   6549392\n",
       "4    CPC_female_55+   402817   2319843\n",
       "5    CPC_male_18-24  1289193   2159076\n",
       "6    CPC_male_25-34  4399725  13199609\n",
       "7    CPC_male_35-44  2348610   8979779\n",
       "8    CPC_male_45-54   782971   4739299\n",
       "9      CPC_male_55+   420199   1685579"
      ]
     },
     "execution_count": 134,
     "metadata": {},
     "output_type": "execute_result"
    }
   ],
   "source": [
    "sum_by_group"
   ]
  },
  {
   "cell_type": "code",
   "execution_count": 135,
   "id": "04f72212",
   "metadata": {},
   "outputs": [],
   "source": [
    "sum_by_group['ROI'] = (sum_by_group['amount'] - sum_by_group['Бюджет']) / sum_by_group['Бюджет'] * 100"
   ]
  },
  {
   "cell_type": "code",
   "execution_count": 136,
   "id": "bacea44b",
   "metadata": {
    "scrolled": false
   },
   "outputs": [
    {
     "data": {
      "text/html": [
       "<div>\n",
       "<style scoped>\n",
       "    .dataframe tbody tr th:only-of-type {\n",
       "        vertical-align: middle;\n",
       "    }\n",
       "\n",
       "    .dataframe tbody tr th {\n",
       "        vertical-align: top;\n",
       "    }\n",
       "\n",
       "    .dataframe thead th {\n",
       "        text-align: right;\n",
       "    }\n",
       "</style>\n",
       "<table border=\"1\" class=\"dataframe\">\n",
       "  <thead>\n",
       "    <tr style=\"text-align: right;\">\n",
       "      <th></th>\n",
       "      <th>age_group</th>\n",
       "      <th>Бюджет</th>\n",
       "      <th>amount</th>\n",
       "      <th>ROI</th>\n",
       "    </tr>\n",
       "  </thead>\n",
       "  <tbody>\n",
       "    <tr>\n",
       "      <th>0</th>\n",
       "      <td>CPC_female_18-24</td>\n",
       "      <td>1492716</td>\n",
       "      <td>4579011</td>\n",
       "      <td>206.757012</td>\n",
       "    </tr>\n",
       "    <tr>\n",
       "      <th>1</th>\n",
       "      <td>CPC_female_25-34</td>\n",
       "      <td>4338761</td>\n",
       "      <td>24899415</td>\n",
       "      <td>473.883074</td>\n",
       "    </tr>\n",
       "    <tr>\n",
       "      <th>2</th>\n",
       "      <td>CPC_female_35-44</td>\n",
       "      <td>2578613</td>\n",
       "      <td>18160102</td>\n",
       "      <td>604.258530</td>\n",
       "    </tr>\n",
       "    <tr>\n",
       "      <th>3</th>\n",
       "      <td>CPC_female_45-54</td>\n",
       "      <td>908437</td>\n",
       "      <td>6549392</td>\n",
       "      <td>620.951701</td>\n",
       "    </tr>\n",
       "    <tr>\n",
       "      <th>4</th>\n",
       "      <td>CPC_female_55+</td>\n",
       "      <td>402817</td>\n",
       "      <td>2319843</td>\n",
       "      <td>475.904939</td>\n",
       "    </tr>\n",
       "    <tr>\n",
       "      <th>5</th>\n",
       "      <td>CPC_male_18-24</td>\n",
       "      <td>1289193</td>\n",
       "      <td>2159076</td>\n",
       "      <td>67.475002</td>\n",
       "    </tr>\n",
       "    <tr>\n",
       "      <th>6</th>\n",
       "      <td>CPC_male_25-34</td>\n",
       "      <td>4399725</td>\n",
       "      <td>13199609</td>\n",
       "      <td>200.009864</td>\n",
       "    </tr>\n",
       "    <tr>\n",
       "      <th>7</th>\n",
       "      <td>CPC_male_35-44</td>\n",
       "      <td>2348610</td>\n",
       "      <td>8979779</td>\n",
       "      <td>282.344408</td>\n",
       "    </tr>\n",
       "    <tr>\n",
       "      <th>8</th>\n",
       "      <td>CPC_male_45-54</td>\n",
       "      <td>782971</td>\n",
       "      <td>4739299</td>\n",
       "      <td>505.296876</td>\n",
       "    </tr>\n",
       "    <tr>\n",
       "      <th>9</th>\n",
       "      <td>CPC_male_55+</td>\n",
       "      <td>420199</td>\n",
       "      <td>1685579</td>\n",
       "      <td>301.138270</td>\n",
       "    </tr>\n",
       "  </tbody>\n",
       "</table>\n",
       "</div>"
      ],
      "text/plain": [
       "          age_group   Бюджет    amount         ROI\n",
       "0  CPC_female_18-24  1492716   4579011  206.757012\n",
       "1  CPC_female_25-34  4338761  24899415  473.883074\n",
       "2  CPC_female_35-44  2578613  18160102  604.258530\n",
       "3  CPC_female_45-54   908437   6549392  620.951701\n",
       "4    CPC_female_55+   402817   2319843  475.904939\n",
       "5    CPC_male_18-24  1289193   2159076   67.475002\n",
       "6    CPC_male_25-34  4399725  13199609  200.009864\n",
       "7    CPC_male_35-44  2348610   8979779  282.344408\n",
       "8    CPC_male_45-54   782971   4739299  505.296876\n",
       "9      CPC_male_55+   420199   1685579  301.138270"
      ]
     },
     "execution_count": 136,
     "metadata": {},
     "output_type": "execute_result"
    }
   ],
   "source": [
    "sum_by_group"
   ]
  },
  {
   "cell_type": "code",
   "execution_count": 137,
   "id": "6b0aa31f",
   "metadata": {},
   "outputs": [
    {
     "data": {
      "image/png": "[encoded data removed]",
      "text/plain": [
       "<Figure size 640x480 with 1 Axes>"
      ]
     },
     "metadata": {},
     "output_type": "display_data"
    }
   ],
   "source": [
    "ax = sns.barplot(data = sum_by_group, x = 'ROI', y = 'age_group', color=(0.5, 1, 0.6, 1),  edgecolor='black')\n",
    "ax.set(xlabel='ROI %', ylabel='Категория')\n",
    "ax;"
   ]
  },
  {
   "cell_type": "markdown",
   "id": "d6381e08",
   "metadata": {},
   "source": [
    "По анализу и графику видно, что единственная рекламная кампания, которая не окупилась - это __CPC-male_18-24__, то есть для мужчин от 18 до 24 лет."
   ]
  },
  {
   "cell_type": "markdown",
   "id": "d4249fa7",
   "metadata": {},
   "source": [
    "## Расчёт различных показателей по группам"
   ]
  },
  {
   "cell_type": "markdown",
   "id": "c1dda88c",
   "metadata": {},
   "source": [
    "### Рассчитаем долю мужчин и женщин"
   ]
  },
  {
   "cell_type": "markdown",
   "id": "c5d2a478",
   "metadata": {},
   "source": [
    "Посчитаем соотношение мужчин и женщин среди всех пользователей"
   ]
  },
  {
   "cell_type": "code",
   "execution_count": 138,
   "id": "05f9c112",
   "metadata": {
    "scrolled": false
   },
   "outputs": [
    {
     "data": {
      "image/png": "[encoded data removed]",
      "text/plain": [
       "<Figure size 640x480 with 1 Axes>"
      ]
     },
     "metadata": {},
     "output_type": "display_data"
    }
   ],
   "source": [
    "users.value_counts('gender').plot.pie(autopct=\"%.2f%%\", label =  '')\n",
    "plt.title(\"Соотношение гендеров всех пользователей\", fontsize=14);"
   ]
  },
  {
   "cell_type": "markdown",
   "id": "fccf9f70",
   "metadata": {},
   "source": [
    "Посчитаем соотношение женщин и мужчин, которые совершали покупки."
   ]
  },
  {
   "cell_type": "code",
   "execution_count": 139,
   "id": "a4bea4fb",
   "metadata": {},
   "outputs": [
    {
     "data": {
      "image/png": "[encoded data removed]",
      "text/plain": [
       "<Figure size 640x480 with 1 Axes>"
      ]
     },
     "metadata": {},
     "output_type": "display_data"
    }
   ],
   "source": [
    "users_trans.drop_duplicates(subset = [\"user_id\"]).value_counts('gender').plot.pie(autopct=\"%.2f%%\", label = '');\n",
    "plt.title(\"Соотношение гендеров пользователей, совершивших покупки\", fontsize=14);"
   ]
  },
  {
   "cell_type": "markdown",
   "id": "1c252890",
   "metadata": {},
   "source": [
    "Можно сделать вывод, что среди аудитории больше женщин. Также женщины чаще совершают покупки."
   ]
  },
  {
   "cell_type": "markdown",
   "id": "e387f71b",
   "metadata": {},
   "source": [
    "### Рассчитаем AOV - средний чек по группам."
   ]
  },
  {
   "cell_type": "markdown",
   "id": "ca9ab377",
   "metadata": {},
   "source": [
    "AOV расчитывается по следующей формуле: __`общая выручка за выбранный период / число покупок за выбранный период`__"
   ]
  },
  {
   "cell_type": "code",
   "execution_count": 140,
   "id": "97030926",
   "metadata": {},
   "outputs": [],
   "source": [
    "AOV = users_trans.groupby('age_group')['amount'].sum() / users_trans.groupby('age_group')['amount'].count()"
   ]
  },
  {
   "cell_type": "code",
   "execution_count": 141,
   "id": "8eafd79a",
   "metadata": {},
   "outputs": [],
   "source": [
    "AOV = pd.DataFrame(AOV).sort_values('amount', ascending = False).reset_index()"
   ]
  },
  {
   "cell_type": "code",
   "execution_count": 142,
   "id": "5d54f62d",
   "metadata": {},
   "outputs": [
    {
     "data": {
      "text/html": [
       "<div>\n",
       "<style scoped>\n",
       "    .dataframe tbody tr th:only-of-type {\n",
       "        vertical-align: middle;\n",
       "    }\n",
       "\n",
       "    .dataframe tbody tr th {\n",
       "        vertical-align: top;\n",
       "    }\n",
       "\n",
       "    .dataframe thead th {\n",
       "        text-align: right;\n",
       "    }\n",
       "</style>\n",
       "<table border=\"1\" class=\"dataframe\">\n",
       "  <thead>\n",
       "    <tr style=\"text-align: right;\">\n",
       "      <th></th>\n",
       "      <th>age_group</th>\n",
       "      <th>amount</th>\n",
       "    </tr>\n",
       "  </thead>\n",
       "  <tbody>\n",
       "    <tr>\n",
       "      <th>0</th>\n",
       "      <td>CPC_female_35-44</td>\n",
       "      <td>1712.086547</td>\n",
       "    </tr>\n",
       "    <tr>\n",
       "      <th>1</th>\n",
       "      <td>CPC_male_45-54</td>\n",
       "      <td>1523.890354</td>\n",
       "    </tr>\n",
       "    <tr>\n",
       "      <th>2</th>\n",
       "      <td>CPC_female_25-34</td>\n",
       "      <td>1306.987297</td>\n",
       "    </tr>\n",
       "    <tr>\n",
       "      <th>3</th>\n",
       "      <td>CPC_male_35-44</td>\n",
       "      <td>1299.721957</td>\n",
       "    </tr>\n",
       "    <tr>\n",
       "      <th>4</th>\n",
       "      <td>CPC_female_45-54</td>\n",
       "      <td>1240.885184</td>\n",
       "    </tr>\n",
       "    <tr>\n",
       "      <th>5</th>\n",
       "      <td>CPC_male_25-34</td>\n",
       "      <td>1144.904935</td>\n",
       "    </tr>\n",
       "    <tr>\n",
       "      <th>6</th>\n",
       "      <td>CPC_male_55+</td>\n",
       "      <td>977.147246</td>\n",
       "    </tr>\n",
       "    <tr>\n",
       "      <th>7</th>\n",
       "      <td>CPC_female_55+</td>\n",
       "      <td>945.331296</td>\n",
       "    </tr>\n",
       "    <tr>\n",
       "      <th>8</th>\n",
       "      <td>CPC_female_18-24</td>\n",
       "      <td>504.574215</td>\n",
       "    </tr>\n",
       "    <tr>\n",
       "      <th>9</th>\n",
       "      <td>CPC_male_18-24</td>\n",
       "      <td>405.765082</td>\n",
       "    </tr>\n",
       "  </tbody>\n",
       "</table>\n",
       "</div>"
      ],
      "text/plain": [
       "          age_group       amount\n",
       "0  CPC_female_35-44  1712.086547\n",
       "1    CPC_male_45-54  1523.890354\n",
       "2  CPC_female_25-34  1306.987297\n",
       "3    CPC_male_35-44  1299.721957\n",
       "4  CPC_female_45-54  1240.885184\n",
       "5    CPC_male_25-34  1144.904935\n",
       "6      CPC_male_55+   977.147246\n",
       "7    CPC_female_55+   945.331296\n",
       "8  CPC_female_18-24   504.574215\n",
       "9    CPC_male_18-24   405.765082"
      ]
     },
     "execution_count": 142,
     "metadata": {},
     "output_type": "execute_result"
    }
   ],
   "source": [
    "AOV"
   ]
  },
  {
   "cell_type": "code",
   "execution_count": 143,
   "id": "d2ed1646",
   "metadata": {
    "scrolled": false
   },
   "outputs": [
    {
     "data": {
      "image/png": "[encoded data removed]",
      "text/plain": [
       "<Figure size 640x480 with 1 Axes>"
      ]
     },
     "metadata": {},
     "output_type": "display_data"
    }
   ],
   "source": [
    "ax = sns.barplot(data = AOV, x = 'amount', y = 'age_group',  color=(0.5, 1, 0.6, 1),  edgecolor='black')\n",
    "ax.set(xlabel='Средний чек', ylabel='Категория')\n",
    "ax;"
   ]
  },
  {
   "cell_type": "markdown",
   "id": "2a2f230e",
   "metadata": {},
   "source": [
    "Самый большой средний чек у женщин в возрасте 35-44. К этому возрасту люди зачастую уже имеют стабильный заработок и семью. Также женщины имеют больший интерес к маркетплейсу, зачастую в семьях именно женщины делают заказ не только на себя, но и на членов семьи, за счёт этого именно у этой группы самый большой средний чек.\n",
    "\n",
    "Самые низкие чеки имеют молодые люди в возрасте от 18 до 24 лет, в целом, это объясняется здравой логикой. Обычно в этом возрасте либо студенты, либо молодые специалисты в начале своей карьеры. Лишних денег на траты попросту нет, за счёт этого средний чек данных групп достаточно низок.\n",
    "\n",
    "Чуть выше средний чек у мужчин и женщин в возрасте выше 54-х лет. Относительно невысокий средний чек можно объяснить консерватизмом старшего поколения, которые привыкли делать покупки в обычных магазинах."
   ]
  },
  {
   "cell_type": "markdown",
   "id": "5852bdbe",
   "metadata": {},
   "source": [
    "### Рассчитаем Repeat Purchase Rate - коэффициент повторных покупок."
   ]
  },
  {
   "cell_type": "markdown",
   "id": "92b1dfe1",
   "metadata": {},
   "source": [
    "RPR вычисляется по формуле: __`Количество повторных клиентов / Общее число клиентов * 100 `__"
   ]
  },
  {
   "cell_type": "markdown",
   "id": "68c588b1",
   "metadata": {},
   "source": [
    "Для начала вычислим общий RPR без разбиения на группы."
   ]
  },
  {
   "cell_type": "code",
   "execution_count": 145,
   "id": "caa5fb91",
   "metadata": {
    "scrolled": true
   },
   "outputs": [
    {
     "data": {
      "text/plain": [
       "95.3"
      ]
     },
     "execution_count": 145,
     "metadata": {},
     "output_type": "execute_result"
    }
   ],
   "source": [
    "round(pd.DataFrame(users_trans.groupby('user_id')['transaction_id'].count()).reset_index()\\\n",
    ".query('transaction_id > 1')['user_id'].count() / users_trans.drop_duplicates(subset = [\"user_id\"])['user_id'].count() * 100, 1)"
   ]
  },
  {
   "cell_type": "markdown",
   "id": "095b5edc",
   "metadata": {},
   "source": [
    "Общий RPR составляет 95 процентов. Это показывает, что наши клиенты продолжают сотрудничать с маркетплейсом в подавляющем большинстве"
   ]
  },
  {
   "cell_type": "code",
   "execution_count": null,
   "id": "8be8919f",
   "metadata": {},
   "outputs": [],
   "source": []
  }
 ],
 "metadata": {
  "kernelspec": {
   "display_name": "Python 3 (ipykernel)",
   "language": "python",
   "name": "python3"
  },
  "language_info": {
   "codemirror_mode": {
    "name": "ipython",
    "version": 3
   },
   "file_extension": ".py",
   "mimetype": "text/x-python",
   "name": "python",
   "nbconvert_exporter": "python",
   "pygments_lexer": "ipython3",
   "version": "3.9.13"
  },
  "toc": {
   "base_numbering": 1,
   "nav_menu": {},
   "number_sections": true,
   "sideBar": true,
   "skip_h1_title": false,
   "title_cell": "Table of Contents",
   "title_sidebar": "Contents",
   "toc_cell": false,
   "toc_position": {
    "height": "calc(100% - 180px)",
    "left": "10px",
    "top": "150px",
    "width": "622.219px"
   },
   "toc_section_display": true,
   "toc_window_display": true
  }
 },
 "nbformat": 4,
 "nbformat_minor": 5
}
